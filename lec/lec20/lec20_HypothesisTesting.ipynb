{
 "cells": [
  {
   "cell_type": "markdown",
   "metadata": {},
   "source": [
    "# Hypothesis Testing"
   ]
  },
  {
   "cell_type": "code",
   "execution_count": 3,
   "metadata": {},
   "outputs": [],
   "source": [
    "import numpy as np\n",
    "import pandas as pd\n",
    "\n",
    "import matplotlib.pyplot as plots\n",
    "plots.style.use('fivethirtyeight')\n",
    "\n",
    "import matplotlib.pylab as plt\n",
    "%matplotlib inline\n",
    "\n",
    "from scipy import special\n",
    "\n",
    "from scipy import stats"
   ]
  },
  {
   "cell_type": "markdown",
   "metadata": {},
   "source": [
    "## Ex 1:  Swain vs. Alabama ##"
   ]
  },
  {
   "cell_type": "code",
   "execution_count": 15,
   "metadata": {},
   "outputs": [
    {
     "data": {
      "text/plain": [
       "<matplotlib.legend.Legend at 0x1761f7770>"
      ]
     },
     "execution_count": 15,
     "metadata": {},
     "output_type": "execute_result"
    }
   ],
   "source": [
    "k = np.arange(101)\n",
    "p = special.comb(100, k)*(0.26**k)*(0.74**(100-k))\n",
    "#p = stats.binom.pmf(k, 100, .26),\n",
    "\n",
    "fig, ax = plt.subplots()\n",
    "\n",
    "ax.bar(k, p, width=1, ec='white');\n",
    "ax.set_axisbelow(True)\n",
    "ax.grid(alpha=0.25)\n",
    "plt.xlim(1,60)\n",
    "plt.title(\"Test Statistic Under Null Hypothesis: X~Bin(n=100, p=0.26)\");\n",
    "plt.xlabel(\"Number of Black People on Panel of 100\")\n",
    "plt.ylabel(\"Percent per unit\")\n",
    "plt.scatter(8, -.0001, color=\"red\", s=30, label=\"Observed Test Statistic\")\n",
    "plt.legend()"
   ]
  },
  {
   "cell_type": "code",
   "execution_count": null,
   "metadata": {},
   "outputs": [],
   "source": [
    "#Hypothesis Test:  \n",
    "# Null:  p=0.26\n",
    "# Alternative  p<0.26\n",
    "\n",
    "\n",
    "# (1) Calculate the p-value: probability of region beyond observed value\n",
    "print(\"P(X<=8) = \",p[0:9].sum())\n",
    "\n",
    "# Or can do this directly using CDF:\n",
    "from scipy import stats\n",
    "stats.binom.cdf(8, 100, .26)\n",
    "               \n",
    "\n",
    "\n",
    "# (2) See if this is less than your pre-chosen significance level"
   ]
  },
  {
   "cell_type": "markdown",
   "metadata": {},
   "source": [
    "**Conclusion:**"
   ]
  },
  {
   "cell_type": "code",
   "execution_count": null,
   "metadata": {},
   "outputs": [],
   "source": [
    "#Conclusion:  since p<0.01, we reject the null hypothesis at the 1% significance level"
   ]
  },
  {
   "cell_type": "markdown",
   "metadata": {},
   "source": [
    "## Ex 2: Alameda County Jury Panels ##"
   ]
  },
  {
   "cell_type": "code",
   "execution_count": 32,
   "metadata": {},
   "outputs": [
    {
     "data": {
      "text/html": [
       "<div>\n",
       "<style scoped>\n",
       "    .dataframe tbody tr th:only-of-type {\n",
       "        vertical-align: middle;\n",
       "    }\n",
       "\n",
       "    .dataframe tbody tr th {\n",
       "        vertical-align: top;\n",
       "    }\n",
       "\n",
       "    .dataframe thead th {\n",
       "        text-align: right;\n",
       "    }\n",
       "</style>\n",
       "<table border=\"1\" class=\"dataframe\">\n",
       "  <thead>\n",
       "    <tr style=\"text-align: right;\">\n",
       "      <th></th>\n",
       "      <th>Eligible</th>\n",
       "      <th>Panels</th>\n",
       "    </tr>\n",
       "  </thead>\n",
       "  <tbody>\n",
       "    <tr>\n",
       "      <th>Asian</th>\n",
       "      <td>0.15</td>\n",
       "      <td>0.26</td>\n",
       "    </tr>\n",
       "    <tr>\n",
       "      <th>Black</th>\n",
       "      <td>0.18</td>\n",
       "      <td>0.08</td>\n",
       "    </tr>\n",
       "    <tr>\n",
       "      <th>Latino</th>\n",
       "      <td>0.12</td>\n",
       "      <td>0.08</td>\n",
       "    </tr>\n",
       "    <tr>\n",
       "      <th>White</th>\n",
       "      <td>0.54</td>\n",
       "      <td>0.54</td>\n",
       "    </tr>\n",
       "    <tr>\n",
       "      <th>Other</th>\n",
       "      <td>0.01</td>\n",
       "      <td>0.04</td>\n",
       "    </tr>\n",
       "  </tbody>\n",
       "</table>\n",
       "</div>"
      ],
      "text/plain": [
       "        Eligible  Panels\n",
       "Asian       0.15    0.26\n",
       "Black       0.18    0.08\n",
       "Latino      0.12    0.08\n",
       "White       0.54    0.54\n",
       "Other       0.01    0.04"
      ]
     },
     "execution_count": 32,
     "metadata": {},
     "output_type": "execute_result"
    }
   ],
   "source": [
    "eth =['Asian', 'Black', 'Latino', 'White', 'Other']\n",
    "\n",
    "jury = pd.DataFrame(\n",
    "    {       \n",
    "        'Eligible': [0.15, 0.18, 0.12, 0.54, 0.01],\n",
    "         'Panels': [0.26, 0.08, 0.08, 0.54, 0.04]\n",
    "        \n",
    "    }, index = eth\n",
    ")\n",
    "\n",
    "jury"
   ]
  },
  {
   "cell_type": "code",
   "execution_count": 36,
   "metadata": {},
   "outputs": [],
   "source": [
    "jury.plot.barh();\n"
   ]
  },
  {
   "cell_type": "code",
   "execution_count": 26,
   "metadata": {},
   "outputs": [],
   "source": [
    "#Make an array with the eligible proportions assumed under the null hypothesis\n",
    "\n",
    "null_hyp=np.array([0.15, 0.18, 0.12, 0.54, 0.01])\n",
    "\n"
   ]
  },
  {
   "cell_type": "code",
   "execution_count": 28,
   "metadata": {},
   "outputs": [
    {
     "name": "stdout",
     "output_type": "stream",
     "text": [
      "[228 264 166 753  12]\n",
      "[0.16022488 0.18552354 0.11665495 0.52916374 0.00843289]\n"
     ]
    }
   ],
   "source": [
    "# Simulate a draw of size N assuming the null hypothesis:\n",
    "\n",
    "\n",
    "N=1423  #from the ACLU report\n",
    "simulated = stats.multinomial.rvs(N, null_hyp)\n",
    "\n",
    "simulated_proportions = simulated/N\n",
    "\n",
    "print(simulated)\n",
    "print(simulated_proportions)"
   ]
  },
  {
   "cell_type": "code",
   "execution_count": 38,
   "metadata": {},
   "outputs": [
    {
     "name": "stdout",
     "output_type": "stream",
     "text": [
      "        Eligible  Panels  Simulated\n",
      "Asian       0.15    0.26   0.160225\n",
      "Black       0.18    0.08   0.185524\n",
      "Latino      0.12    0.08   0.116655\n",
      "White       0.54    0.54   0.529164\n",
      "Other       0.01    0.04   0.008433\n"
     ]
    },
    {
     "data": {
      "text/plain": [
       "<Axes: >"
      ]
     },
     "execution_count": 38,
     "metadata": {},
     "output_type": "execute_result"
    }
   ],
   "source": [
    "# The actual observed distribution (Panels) looks quite different\n",
    "# from the simulation -- try running this several times to confirm!\n",
    "jury_with_simulated=jury.copy()\n",
    "jury_with_simulated[\"Simulated\"]=simulated_proportions\n",
    "\n",
    "print(jury_with_simulated)\n",
    "\n",
    "jury_with_simulated.plot.barh()"
   ]
  },
  {
   "cell_type": "markdown",
   "metadata": {},
   "source": [
    "## Distance Between Distributions"
   ]
  },
  {
   "cell_type": "code",
   "execution_count": null,
   "metadata": {},
   "outputs": [],
   "source": [
    "\n",
    "# In this case, we need to understand how each of the 5 categories\n",
    "# differ from their expected values according to the model\n",
    "\n",
    "jury_with_difference=jury.copy()\n",
    "jury_with_difference[\"Difference\"]=jury[\"Panels\"]-jury[\"Eligible\"]\n",
    "jury_with_difference"
   ]
  },
  {
   "cell_type": "markdown",
   "metadata": {},
   "source": [
    "## Total Variation Distance"
   ]
  },
  {
   "cell_type": "code",
   "execution_count": null,
   "metadata": {},
   "outputs": [],
   "source": [
    "# This was the statistic we chose\n",
    "def tvd(dist1, dist2):\n",
    "    return sum(abs(dist1 - dist2))/2"
   ]
  },
  {
   "cell_type": "code",
   "execution_count": null,
   "metadata": {},
   "outputs": [],
   "source": [
    "# The TVD of our observed data (Panels) from their expected values\n",
    "# assuming the model is true \n",
    "obsvd_tvd = tvd(jury['Panels'],null_hyp)\n",
    "obsvd_tvd"
   ]
  },
  {
   "cell_type": "code",
   "execution_count": null,
   "metadata": {},
   "outputs": [],
   "source": [
    "# The TVD of a model simluation from its expected values\n",
    "tvd(stats.multinomial.rvs(N, null_hyp)/N, null_hyp)"
   ]
  },
  {
   "cell_type": "code",
   "execution_count": null,
   "metadata": {},
   "outputs": [],
   "source": [
    "def simulated_tvd():\n",
    "    return tvd(stats.multinomial.rvs(N, null_hyp)/N, null_hyp)\n",
    "\n",
    "\n",
    "num_simulations = 1000000\n",
    "\n",
    "tvds = np.array([tvd(stats.multinomial.rvs(N, null_hyp)/N, null_hyp) for i in range(num_simulations)])\n",
    "\n",
    "\n",
    "plt.hist(tvds, density=True);  \n",
    "plt.xlabel(\"Total Distance Variation\")\n",
    "plt.ylabel(\"Percent per unit\")\n",
    "    "
   ]
  },
  {
   "cell_type": "code",
   "execution_count": null,
   "metadata": {},
   "outputs": [],
   "source": [
    "# Add the observed test statistic to the plot:\n",
    "plt.hist(tvds, density=True);  \n",
    "plt.xlabel(\"Total Distance Variation\")\n",
    "plt.ylabel(\"Percent per unit\")\n",
    "\n",
    "    \n",
    "plt.scatter(obsvd_tvd, -.001, color=\"red\", s=40)\n",
    "\n",
    "plt.show()\n",
    "\n"
   ]
  },
  {
   "cell_type": "code",
   "execution_count": null,
   "metadata": {},
   "outputs": [],
   "source": [
    "\n",
    "# (1) Calculate the empirical p-value: simulation area beyond observed value\n",
    "\n",
    "sum(tvds>=obsvd_tvd)/1000000\n",
    "\n",
    "# (2) See if this is less than 1% (or our initially chosen significance level)"
   ]
  },
  {
   "cell_type": "markdown",
   "metadata": {},
   "source": [
    "**Conclusion**:\n",
    "Our empiricial p-value is $0$ (note that the actual theoretical p-value isn't 0, but since our simulations showed 0 observations out of $1000000$ that had a TVD greater than or equal to 0.14, we know that the theoretical p-value is at least less than $1/1000000$.\n",
    "\n",
    "Given that our empirical p-value is less than our significance cutoff of $0.01$ we **REJECT THE NULL** hypothesis.      It is important for us to be precise about what we can conclude from our analysis:\n",
    "\n",
    "**We can conclude that the distribution provided for the panelists who reported for service does not look like a random sample from the estimated distribution in the eligible population.**\n",
    "\n",
    "Our analysis supports the ACLU’s conclusion that the panels were not representative of the distribution provided for the eligible jurors.\n",
    "\n",
    "As with most such analyses, ours doesn’t say why the distributions are different.   See here for a more detailed discussion about this case:  https://inferentialthinking.com/chapters/11/2/Multiple_Categories.html"
   ]
  },
  {
   "cell_type": "markdown",
   "metadata": {},
   "source": [
    "## Ex 3: Mendel and Pea Flowers ##\n",
    "\n",
    "Mendel's null: 75% chance of purple flowers\n",
    "\n",
    "Observed data:  grew 929 plants, of which 709 had purple flowers\n"
   ]
  },
  {
   "cell_type": "code",
   "execution_count": null,
   "metadata": {},
   "outputs": [],
   "source": [
    "#Simulate one value of the test statistic under the null hypothesis:  75% chance of purple flowers out of sample of 929\n",
    "\n",
    "predicted_proportions = np.array([.75, .25])\n",
    "\n",
    "def test_statistic_purple_flowers(n=929):\n",
    "    num_purple=stats.binom.rvs(n, 0.75)\n",
    "    #print(\"Number of purple flowers out of 929:\",num_purple)\n",
    "    return abs(num_purple/n*100-75)\n",
    "\n",
    "test_statistic_purple_flowers()"
   ]
  },
  {
   "cell_type": "code",
   "execution_count": null,
   "metadata": {},
   "outputs": [],
   "source": [
    "# Simulate 10,000 copies of the test statistic\n",
    "num_simulations = 10000;\n",
    "\n",
    "outcomes=[]\n",
    "\n",
    "for i in np.arange(num_simulations):\n",
    "    outcomes = np.append(outcomes, test_statistic_purple_flowers(929))\n",
    "\n",
    "plt.hist(outcomes, density=True);\n",
    "\n",
    "#ax.set_axisbelow(True)\n",
    "#ax.grid(alpha=0.25)\n",
    "plt.xlabel(\"Abs(75-% Purple) in sample of 929 if the null true\")\n",
    "plt.ylabel(\"Percent per unit\")\n",
    "plt.show()\n"
   ]
  },
  {
   "cell_type": "markdown",
   "metadata": {},
   "source": [
    "## Our Decision"
   ]
  },
  {
   "cell_type": "code",
   "execution_count": null,
   "metadata": {},
   "outputs": [],
   "source": [
    "#Compare to observed test statistic:\n",
    "## Mendel had 929 plants, of which 709 had purple flowers\n",
    "\n",
    "observed_purples = 709 / 929*100\n",
    "\n",
    "observed_test_statistic=abs(observed_purples-75)\n",
    "observed_test_statistic\n"
   ]
  },
  {
   "cell_type": "code",
   "execution_count": null,
   "metadata": {},
   "outputs": [],
   "source": [
    "#Plot\n",
    "\n",
    "plt.hist(outcomes, density=True);\n",
    "#ax.set_axisbelow(True)\n",
    "#ax.grid(alpha=0.25)\n",
    "plt.xlabel(\"Abs(75-% Purple) in sample of 929 if the null true\")\n",
    "plt.ylabel(\"Percent per unit\")\n",
    "\n",
    "plt.scatter(observed_test_statistic, -.0001, color=\"red\", label = 'observed test statistic')\n",
    "plt.legend()\n",
    "\n",
    "plt.show()"
   ]
  },
  {
   "cell_type": "code",
   "execution_count": null,
   "metadata": {},
   "outputs": [],
   "source": [
    "# (1) Calculate the EMPIRICAL p-value: simulation area beyond observed value\n",
    "\n",
    "sum(outcomes>=observed_test_statistic)/ num_simulations\n",
    "\n",
    "# (2) See if this is less than 5% (or our initially chosen significance level)\n"
   ]
  },
  {
   "cell_type": "markdown",
   "metadata": {},
   "source": [
    "## Conclusion:  \n",
    "Since 0.3655> 0.05, we **FAIL TO REJECT** the null hypothesis that the proportion of purple flowers is 0.75.  The evidence is consistent with our null hypothesis.  This does NOT prove that our null is true.  It just proves that we don't have evidence to reject it, so we will continue using the null hypothesis.\n"
   ]
  },
  {
   "cell_type": "markdown",
   "metadata": {},
   "source": [
    "## Ex 4: The TA's Defense ##"
   ]
  },
  {
   "cell_type": "code",
   "execution_count": null,
   "metadata": {
    "scrolled": true
   },
   "outputs": [],
   "source": [
    "scores = pd.read_csv('scores_by_section.csv')\n",
    "scores"
   ]
  },
  {
   "cell_type": "code",
   "execution_count": null,
   "metadata": {},
   "outputs": [],
   "source": [
    "scores.groupby(\"Section\").count()"
   ]
  },
  {
   "cell_type": "code",
   "execution_count": null,
   "metadata": {},
   "outputs": [],
   "source": [
    "scores.groupby(\"Section\").mean()"
   ]
  },
  {
   "cell_type": "code",
   "execution_count": null,
   "metadata": {},
   "outputs": [],
   "source": [
    "observed_average = 13.6667 "
   ]
  },
  {
   "cell_type": "code",
   "execution_count": null,
   "metadata": {},
   "outputs": [],
   "source": [
    "scores[\"Midterm\"].mean()"
   ]
  },
  {
   "cell_type": "code",
   "execution_count": null,
   "metadata": {},
   "outputs": [],
   "source": [
    "random_sample=scores.sample(27,replace=False)\n",
    "random_sample[\"Midterm\"].mean()"
   ]
  },
  {
   "cell_type": "code",
   "execution_count": null,
   "metadata": {},
   "outputs": [],
   "source": [
    "random_sample['Midterm'].mean()"
   ]
  },
  {
   "cell_type": "code",
   "execution_count": null,
   "metadata": {},
   "outputs": [],
   "source": [
    "# Simulate one value of the test statistic \n",
    "# under the hypothesis that the section is like a random sample from the class\n",
    "\n",
    "def random_sample_midterm_avg():\n",
    "    random_sample = scores.sample(27, replace=False)\n",
    "    return random_sample['Midterm'].mean()"
   ]
  },
  {
   "cell_type": "code",
   "execution_count": null,
   "metadata": {},
   "outputs": [],
   "source": [
    "# Simulate 100,000 copies of the test statistic\n",
    "\n",
    "\n",
    "num_sim=100000\n",
    "\n",
    "sample_averages = np.array([random_sample_midterm_avg() for i in range(num_sim)])\n",
    "\n",
    "\n"
   ]
  },
  {
   "cell_type": "code",
   "execution_count": null,
   "metadata": {
    "scrolled": true
   },
   "outputs": [],
   "source": [
    "# Compare the simulated distribution of the statistic\n",
    "# and the actual observed statistic\n",
    "\n",
    "plt.hist(sample_averages, density=True);\n",
    "\n",
    "plots.scatter(observed_average, -0.01, color='red', s=120);"
   ]
  },
  {
   "cell_type": "markdown",
   "metadata": {},
   "source": [
    "## Calculating p-value"
   ]
  },
  {
   "cell_type": "code",
   "execution_count": null,
   "metadata": {},
   "outputs": [],
   "source": [
    "# (1) Calculate the p-value: simulation area beyond observed value\n",
    "np.count_nonzero(sample_averages <= observed_average) / num_sim\n",
    "# (2) See if this is less than 5%"
   ]
  },
  {
   "cell_type": "markdown",
   "metadata": {},
   "source": [
    "## Conclusion:  \n",
    "Since 0.05746> 0.05, we **FAIL TO REJECT** the null hypothesis that any difference in scores for section 3 was just due to random chance"
   ]
  },
  {
   "cell_type": "code",
   "execution_count": null,
   "metadata": {},
   "outputs": [],
   "source": [
    "from scipy import stats\n"
   ]
  },
  {
   "cell_type": "markdown",
   "metadata": {},
   "source": [
    "## Theoretical Calculation:\n",
    "\n",
    "We could have done this without using simulations thanks to the Central Limit Theorem!   \n",
    "\n",
    "By the CLT, $$\\bar{X}_{27} \\sim N(\\mu, \\sigma^2/27)$$ where $\\mu = $ pop mean = `scores[\"Midterm\"].mean()`   and                    \n",
    "\n",
    "$\\sigma = $ pop_std = `pop_std=scores[\"Midterm\"].std(ddof=0)`\n",
    "\n",
    "\n",
    "Thus \n",
    "\n",
    "p-value =   $P(\\bar{X}_{27}<=13.667)$ = `stats.norm.cdf(13.667,pop_mean, pop_std/np.sqrt(27))`\n"
   ]
  },
  {
   "cell_type": "code",
   "execution_count": null,
   "metadata": {},
   "outputs": [],
   "source": [
    "pop_mean=scores[\"Midterm\"].mean()"
   ]
  },
  {
   "cell_type": "code",
   "execution_count": null,
   "metadata": {},
   "outputs": [],
   "source": [
    "pop_std=scores[\"Midterm\"].std(ddof=0)"
   ]
  },
  {
   "cell_type": "code",
   "execution_count": null,
   "metadata": {},
   "outputs": [],
   "source": [
    "stats.norm.cdf(13.667,pop_mean, pop_std/np.sqrt(27))"
   ]
  },
  {
   "cell_type": "markdown",
   "metadata": {},
   "source": [
    "Again, since $p= 0.059> 0.05$, we **FAIL TO REJECT** the null hypothesis that any difference in scores for section 3 was just due to random chance"
   ]
  },
  {
   "cell_type": "code",
   "execution_count": null,
   "metadata": {},
   "outputs": [],
   "source": []
  }
 ],
 "metadata": {
  "anaconda-cloud": {},
  "kernelspec": {
   "display_name": "Python [conda env:base] *",
   "language": "python",
   "name": "conda-base-py"
  },
  "language_info": {
   "codemirror_mode": {
    "name": "ipython",
    "version": 3
   },
   "file_extension": ".py",
   "mimetype": "text/x-python",
   "name": "python",
   "nbconvert_exporter": "python",
   "pygments_lexer": "ipython3",
   "version": "3.12.7"
  }
 },
 "nbformat": 4,
 "nbformat_minor": 4
}
