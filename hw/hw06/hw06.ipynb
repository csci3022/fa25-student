{
 "cells": [
  {
   "cell_type": "code",
   "execution_count": null,
   "id": "e04bf573",
   "metadata": {
    "deletable": false,
    "editable": false
   },
   "outputs": [],
   "source": [
    "# Initialize Otter\n",
    "import otter\n",
    "grader = otter.Notebook(\"hw06.ipynb\")"
   ]
  },
  {
   "cell_type": "markdown",
   "id": "bbbf1431",
   "metadata": {},
   "source": [
    "# Homework 6: Probability Distributions"
   ]
  },
  {
   "cell_type": "markdown",
   "id": "2b1fa56f",
   "metadata": {},
   "source": [
    "\n",
    "\n",
    "## Due Date: Thursday Oct 2nd by 11:59 PM MT on Gradescope\n",
    "\n",
    "## Assignment Learning Objectives\n",
    " - Explain the difference between Probabilty Density Functions (PDFs) and Cumulative Density Functions (CDFs) and use both to calculate probabilities for continuous random variables\n",
    " - State the Probability Mass Functions, Expected Value and Variance for Bernoulli, Binomial and Poisson RV and use them to calculate probabilities\n",
    " - Distinguish when to use Bernoulli vs Binomial vs Poission Random Variables to model a given situation and state any assumptions that are needed to use these RV\n",
    " - Use Python to simulate sampling from a Bernoulli, Binomial or Poisson Distribution\n",
    " - State the PDF, Expected Value and Variance for a Uniform continuous random variable and use it to calculate probabilities\n",
    " - State the PDF, Expected Value and Variance for an Exponential continuous random variable and use it to calculate probabilities\n",
    " - State the PDF, Expected Value and Variance for Normal continuous random variable and use it to calculate probabilities\n",
    " - Distinguish when to use Uniform vs Exponential vs  Normal random variables to model a given situation and state any assumptions that are needed to use these RV\n",
    "\n",
    "\n",
    "\n",
    "## Collaboration Policy\n",
    "\n",
    "Data science is a collaborative activity.  However a key step in learning and retention is **creating solutions on your own.**  \n",
    "\n",
    "Below are examples of acceptable vs unacceptable use of resources and collaboration when doing HW assignments in CSCI 3022.\n",
    "\n",
    "\n",
    "The following would be some **examples of cheating** when working on HW assignments in CSCI 3022.  Any of these constitute a **violation of the course's collaboration policy and will result in an F in the course and a trip to the honor council**.   \n",
    "\n",
    "\n",
    " - Consulting web pages that may have a solution to a given homework problem or one similar is cheating.  However, consulting the class notes, and web pages that explain the material taught in class but do NOT show a solution to the homework problem in question are permissible to view.  Clearly, there's a fuzzy line here between a valid use of resources and cheating. To avoid this line, one should merely consult the course notes, the course textbook, and references that contain syntax and/or formulas.\n",
    " - Copying a segment of code or math solution of three lines or more from another student from a printout, handwritten copy, or by looking at their computer screen \n",
    " - Allowing another student to copy a segment of your code or math solution of three lines or more\n",
    " - Taking a copy of another student's work (or a solution found online) and then editing that copy\n",
    " - Reading someone else’s solution to a problem on the HW before writing your own.\n",
    " - Asking someone to write all or part of a program or solution for you.\n",
    " - Asking someone else for the code necessary to fix the error for you, other than for simple syntactical errors\n",
    " \n",
    "\n",
    "\n",
    "On the other hand, the following are some **examples of things which would NOT usually be\n",
    "considered to be cheating**:\n",
    " - Working on a HW problem on your own first and then discussing with a classmate a particular part in the problem solution where you are stuck.  After clarifying any questions you should then continue to write your solution independently.\n",
    " - Asking someone (or searching online) how a particular construct in the language works.\n",
    " - Asking someone (or searching online) how to formulate a particular construct in the language.\n",
    " - Asking someone for help in finding an error in your program.  \n",
    " - Asking someone why a particular construct does not work as you expected in a given program.\n",
    "   \n",
    "\n",
    "To test whether you are truly doing your own work and retaining what you've learned you should be able to easily reproduce from scratch and explain a HW solution that was your own when asked in office hours by a TA/Instructor or on a quiz/exam.   \n",
    "\n",
    "\n",
    "If you have difficulty in formulating the general solution to a problem on your own, or\n",
    "you have difficulty in translating that general solution into a program, it is advisable to see\n",
    "your instructor or teaching assistant rather than another student as this situation can easily\n",
    "lead to a, possibly inadvertent, cheating situation.\n",
    "\n",
    "We are here to help!  Visit HW Hours and/or post questions on Piazza!\n"
   ]
  },
  {
   "cell_type": "markdown",
   "id": "1ee34b34-778f-48d8-87a7-173cd97a049c",
   "metadata": {},
   "source": [
    "#### Grading\n",
    "Grading is broken down into autograded answers and manually graded answers. \n",
    "\n",
    "For autograded answers, the results of your code are compared to provided and/or hidden tests.\n",
    "\n",
    "For manually graded answers you must show and explain all steps.  Graders will evaluate how well you answered the question and/or fulfilled the requirements of the question.\n",
    "\n",
    "\n",
    "### Score breakdown\n",
    "\n",
    "Question | Points | Grading Type\n",
    "--- | --- | ---\n",
    "Question 1adf | 10 | manual\n",
    "Question 1bce | 4 | auto\n",
    "Question 2 | 9 | manual\n",
    "Question 3 | 7 | manual\n",
    "Question 4 | 8 | manual\n",
    "Question 5a | 4 | manual\n",
    "Question 5b | 2 | auto\n",
    "Question 6a | 2 | manual\n",
    "Question 6b | 1 | auto\n",
    "Question 6c | 3 | manual and auto\n",
    "|Total | 50\n",
    "\n",
    "\n",
    "\n",
    "## Assigned Readings for this HW:\n",
    "\n",
    "- [Random Variables](https://chrispiech.github.io/probabilityForComputerScientists/en/part2/rvs/)\n",
    "- [Probability Mass Functions](https://chrispiech.github.io/probabilityForComputerScientists/en/part2/pmf/)\n",
    "- [Expected Value](https://chrispiech.github.io/probabilityForComputerScientists/en/part2/expectation/)\n",
    "- [Variance](https://chrispiech.github.io/probabilityForComputerScientists/en/part2/variance/)\n",
    "- [Bernoulli Distribution](https://chrispiech.github.io/probabilityForComputerScientists/en/part2/bernoulli/)\n",
    "- [Binomial Distribution](https://chrispiech.github.io/probabilityForComputerScientists/en/part2/binomial/)\n",
    "- [Poisson Distribution](https://chrispiech.github.io/probabilityForComputerScientists/en/part2/poisson/)\n",
    "- [Continuous Random Variables](https://chrispiech.github.io/probabilityForComputerScientists/en/part2/continuous/)\n",
    "- [Probability Density](https://data88s.org/textbook/content/Chapter_10/01_Density.html)\n",
    "- [Continuous Uniform Distribution](https://chrispiech.github.io/probabilityForComputerScientists/en/part2/uniform/)\n",
    "- [Exponential Distribution](https://www.probabilitycourse.com/chapter4/4_2_2_exponential.php)\n",
    "- [Normal Distribution](https://onlinestatbook.com/2/normal_distribution/normal_distribution.html)"
   ]
  },
  {
   "cell_type": "markdown",
   "id": "814b4089-42d2-4c4a-96ed-82b9a5745d46",
   "metadata": {},
   "source": [
    "\n",
    "<hr style=\"border: 5px solid #003262;\" />\n",
    "<hr style=\"border: 1px solid #fdb515;\" />"
   ]
  },
  {
   "cell_type": "code",
   "execution_count": null,
   "id": "4a8b68c6-e69d-4da4-a604-265b23aedf84",
   "metadata": {
    "scrolled": true
   },
   "outputs": [],
   "source": [
    "import numpy as np\n",
    "import pandas as pd\n",
    "import math\n",
    "from scipy import special\n",
    "import matplotlib\n",
    "import matplotlib.pyplot as plt\n",
    "from matplotlib.ticker import PercentFormatter\n",
    "import seaborn as sns\n",
    "import hashlib\n",
    "from IPython.display import display, Latex, Markdown\n",
    "import simple_latex_checker as slc\n",
    "\n",
    "plt.style.use('fivethirtyeight')\n",
    "# Default plot configurations\n",
    "plt.rcParams['figure.figsize'] = (16,8)\n",
    "plt.rcParams['figure.dpi'] = 150\n",
    "sns.set()\n",
    "import warnings\n",
    "warnings.simplefilter('ignore', FutureWarning)\n",
    "\n",
    "\n",
    "def get_hash(num):\n",
    "    \"\"\"Helper function for assessing correctness\"\"\"\n",
    "    return hashlib.md5(str(num).encode()).hexdigest()\n",
    "\n",
    "%matplotlib inline"
   ]
  },
  {
   "cell_type": "markdown",
   "id": "cf3224c9-667a-4679-a6fb-5521aef94253",
   "metadata": {
    "deletable": false,
    "editable": false
   },
   "source": [
    "<!-- BEGIN QUESTION -->\n",
    "\n",
    "<hr style=\"border: 5px solid #003262;\" />\n",
    "<hr style=\"border: 1px solid #fdb515;\" />\n",
    "\n",
    "## <span style='color:Red'>  Question 1  ##\n",
    "\n",
    "In the general population, approximately $10\\%$ of people are left-handed.  You randomly sample (with replacement) $77$ people from the general population.  \n",
    "\n",
    "\n",
    "### <span style='color:Red'>  Question 1a (3 pts)  ##\n",
    "Answer each of the following questions using Markdown in the same cell below.\n",
    "\n",
    "\n",
    "\n",
    " - **i).**  Let $X$ be the random variable that is the number of people in your sample who are left handed.   Define how $X$ is distributed using the notation: $X\\sim DistributionNickName(parameter\\_values)$.  \n",
    "\n",
    " \n",
    " - **ii).** What is the support of $X$?\n",
    "\n",
    " -  **iii).**  What is the PMF of $X$? (Give your answer as a closed-form function)\n",
    "\n",
    "\n",
    "Answer all of the questions above in the same LaTeX cell below. \n",
    "\n",
    "\n",
    "\n"
   ]
  },
  {
   "cell_type": "markdown",
   "id": "8840efe9",
   "metadata": {
    "tags": [
     "otter_answer_cell"
    ]
   },
   "source": [
    "_Type your answer here, replacing this text._"
   ]
  },
  {
   "cell_type": "markdown",
   "id": "2ce4973b-b206-4e40-beee-5772dc7f3c1e",
   "metadata": {
    "deletable": false,
    "editable": false
   },
   "source": [
    "<!-- END QUESTION -->\n",
    "\n",
    "### <span style='color:Red'>  Question 1b (2 pts)  ##\n",
    "Calculate the following in the code cell below. \n",
    "\n",
    "For all parts of this question do NOT use any built-in PMF or CDF methods in Python (i.e. do not use Scipy).   \n",
    "Also, **do NOT use the math.factorial** method (it will fail in gradescope).  \n",
    "You can use either `special.comb` or `special.factorial` as needed.  \n",
    "\n",
    " - **i).**  What is the probability $9$ people in your sample are left-handed?  \n",
    "\n",
    "\n",
    "\n",
    " - **ii).**  What is the probability that **at least** $7$ people and **at most** $10$ people in your sample are left-handed?  \n",
    "\n",
    " - **iii).**  What is $E[X]$?   (you can use the formula we derived in class)\n",
    " \n",
    " - **iv).**  What is $SD[X]$?    (you can use the formula we derived in class)\n"
   ]
  },
  {
   "cell_type": "code",
   "execution_count": null,
   "id": "89ae0e56-ca66-4199-9efd-b3bcbf9689da",
   "metadata": {
    "tags": [
     "otter_answer_cell"
    ]
   },
   "outputs": [],
   "source": [
    "...\n",
    "\n",
    "#i). \n",
    "prob_9 = ...\n",
    "print(\"Prob of exactly 9 left-handed people = \", round(prob_9,3))\n",
    "\n",
    "#ii).\n",
    "prob_7_to_10 = ...\n",
    "print(\"Prob of between 7 and 10 left-handed people = \", round(prob_7_to_10,3))\n",
    "\n",
    "#iii).\n",
    "ev_X = ...\n",
    "print(\"Expected Value of X = \", ev_X)\n",
    "\n",
    "#iv).\n",
    "sd_X = ...\n",
    "print(\"Standard Deviation of X = \", round(sd_X,3))\n"
   ]
  },
  {
   "cell_type": "code",
   "execution_count": null,
   "id": "1bf77e06",
   "metadata": {
    "deletable": false,
    "editable": false
   },
   "outputs": [],
   "source": [
    "grader.check(\"1b\")"
   ]
  },
  {
   "cell_type": "markdown",
   "id": "d3a9cdd4-7aca-4806-976c-1a38eecb24b0",
   "metadata": {
    "deletable": false,
    "editable": false
   },
   "source": [
    "<hr style=\"border: 5px solid #003262;\" />\n",
    "<hr style=\"border: 1px solid #fdb515;\" />\n",
    "\n",
    "## <span style='color:Red'>  Question 1c (1 pt)"
   ]
  },
  {
   "cell_type": "markdown",
   "id": "2e63cfa1-1126-4adf-8c56-2596cb1314a7",
   "metadata": {
    "deletable": false,
    "editable": false
   },
   "source": [
    "### Built-In Python Functions\n",
    "\n",
    "Python's scientific computing library `scipy` has a `stats` module with built-in functions for many commonly used Random Variables:\n",
    "https://docs.scipy.org/doc/scipy/reference/stats.html\n",
    "\n",
    "\n"
   ]
  },
  {
   "cell_type": "code",
   "execution_count": null,
   "id": "f84ad8a8-538c-465e-a684-a862111945e7",
   "metadata": {
    "deletable": false,
    "editable": false
   },
   "outputs": [],
   "source": [
    "import scipy.stats as stats"
   ]
  },
  {
   "cell_type": "markdown",
   "id": "d7df5514-aab4-43e1-85f6-b1bb3bdef662",
   "metadata": {
    "deletable": false,
    "editable": false,
    "tags": []
   },
   "source": [
    " - Read the documentation for `stats.binom`: https://docs.scipy.org/doc/scipy/reference/generated/scipy.stats.binom.html.\n",
    " \n",
    " - Then recalculate part 1b(i) above using `stats.binom.pmf()`.  (That is, calculate the probability exactly $9$ people in your sample are left-handed)"
   ]
  },
  {
   "cell_type": "code",
   "execution_count": null,
   "id": "89e890e3-96eb-400d-8274-7af9ffb7e7cd",
   "metadata": {
    "tags": [
     "otter_answer_cell"
    ]
   },
   "outputs": [],
   "source": [
    "#Recalculate part 1b(i) above using stats.binom.pmf()\n",
    "\n",
    "bi_recalculated = ...\n",
    "\n",
    "round(bi_recalculated,3)"
   ]
  },
  {
   "cell_type": "code",
   "execution_count": null,
   "id": "90171681",
   "metadata": {
    "deletable": false,
    "editable": false
   },
   "outputs": [],
   "source": [
    "grader.check(\"1c\")"
   ]
  },
  {
   "cell_type": "markdown",
   "id": "ef0f1775-a274-4931-a294-314caf86f35a",
   "metadata": {
    "deletable": false,
    "editable": false
   },
   "source": [
    "<!-- BEGIN QUESTION -->\n",
    "\n",
    "<hr style=\"border: 5px solid #003262;\" />\n",
    "<hr style=\"border: 1px solid #fdb515;\" />\n",
    "\n",
    "## <span style='color:Red'>  Question 1d (2 pts)"
   ]
  },
  {
   "cell_type": "markdown",
   "id": "4311cbbd-c3b4-48df-a093-6bc09375f63c",
   "metadata": {
    "deletable": false,
    "editable": false
   },
   "source": [
    "To plot a histogram of the distribution of $X$, \n",
    "use  `stats.binom.pmf` to define the pmf array in the code below.  \n",
    "Be sure to also fill in the missing parameters in the title of the plot."
   ]
  },
  {
   "cell_type": "code",
   "execution_count": null,
   "id": "900c4668-88aa-4af1-9bb8-791bc27f7024",
   "metadata": {
    "tags": [
     "otter_answer_cell"
    ]
   },
   "outputs": [],
   "source": [
    "\n",
    "X = np.array(range(78)) \n",
    "\n",
    "pmf = ...\n",
    "\n",
    "fig, ax = plt.subplots()\n",
    "\n",
    "# Note: to plot this distribution we can't use .hist, because we don't \n",
    "# have an array of data, \n",
    "# Instead we use .bar because we have an array of probabilities \n",
    "\n",
    "ax.bar(X, pmf);\n",
    "\n",
    "plt.xlim(0,77)\n",
    "\n",
    "# Fill in the correct values for n and p in the title:\n",
    "plt.title(\"Binomial Distribution,n=..., p=...\");\n",
    "\n"
   ]
  },
  {
   "cell_type": "markdown",
   "id": "f10d13c1-831d-43fa-ab48-e53be371e570",
   "metadata": {
    "deletable": false,
    "editable": false
   },
   "source": [
    "<!-- END QUESTION -->\n",
    "\n",
    "<hr style=\"border: 5px solid #003262;\" />\n",
    "<hr style=\"border: 1px solid #fdb515;\" />\n",
    "\n",
    "## <span style='color:Red'>  Question 1e (1 point)"
   ]
  },
  {
   "cell_type": "markdown",
   "id": "814d0a6a-7d47-4a1d-8ac8-4f6203b2bd26",
   "metadata": {
    "deletable": false,
    "editable": false
   },
   "source": [
    "\n",
    "The Cumulative Distribution Function (CDF), $F(a)$ of a Random Variable $X$ is defined as:\n",
    "\n",
    "$F(a) = P(X \\leq a)$\n",
    "\n",
    "`scipy.stats` has the CDF as a built-in function.  \n",
    "\n",
    "\n",
    "**Use `stats.binom.cdf()` to calculate the following probabilities:** \n",
    "\n",
    " - **i).** What is the probability that **at most** $10$ people in your sample are left-handed?\n",
    "\n",
    " - **ii).**  Re-do question 1b(ii) using the CDF function:  What is the probability that **at least** $7$ people and **at most** $10$ people in your sample are left-handed?    (Hint: you will need to use subtraction as part of your calculation).\n"
   ]
  },
  {
   "cell_type": "code",
   "execution_count": null,
   "id": "6cab616f-6a46-4e62-b0fd-fa4ba0ab12bd",
   "metadata": {
    "tags": [
     "otter_answer_cell"
    ]
   },
   "outputs": [],
   "source": [
    "prob_at_most_10 = ...\n",
    "print(round(prob_at_most_10, 3))\n",
    "\n",
    "prob_7_to_10 = ...\n",
    "print(round(prob_7_to_10, 3))"
   ]
  },
  {
   "cell_type": "code",
   "execution_count": null,
   "id": "fd36fc13",
   "metadata": {
    "deletable": false,
    "editable": false
   },
   "outputs": [],
   "source": [
    "grader.check(\"q1e\")"
   ]
  },
  {
   "cell_type": "markdown",
   "id": "60a1dd08-5d1d-46f6-9efe-efeba061477f",
   "metadata": {
    "tags": []
   },
   "source": [
    "**Randomly Sampling From a Distribution** "
   ]
  },
  {
   "cell_type": "markdown",
   "id": "6d8847ae-3080-4b94-ad0b-f616c4681693",
   "metadata": {},
   "source": [
    "`scipy.stats` has built-in methods `.rvs` to generate random samples from common distributions.  \n",
    "\n",
    "To generate random samples from a Binomial distribution we can use `stats.binom.rvs(n, p, size)` , where size is the size of the random sample (assuming with replacement()\n",
    "\n",
    "\n",
    "   \n",
    " -  Run the code below to randomly sample 15 times from a Binomial distribution with $n=25$ and $p = 0.20$:"
   ]
  },
  {
   "cell_type": "code",
   "execution_count": null,
   "id": "d5450ef3-eeb6-43d1-abbe-f3aaf1bc0e97",
   "metadata": {},
   "outputs": [],
   "source": [
    "x = stats.binom.rvs(n=20, p=0.20, size=15)\n",
    "x"
   ]
  },
  {
   "cell_type": "markdown",
   "id": "f065b545-b1d1-4509-8a1d-2478071ec403",
   "metadata": {
    "deletable": false,
    "editable": false
   },
   "source": [
    "<!-- BEGIN QUESTION -->\n",
    "\n",
    "<hr style=\"border: 5px solid #003262;\" />\n",
    "<hr style=\"border: 1px solid #fdb515;\" />\n",
    "\n",
    "## <span style='color:Red'>  Question 1f (5 points)"
   ]
  },
  {
   "cell_type": "markdown",
   "id": "3e912b5a-1657-49b4-b95c-016e45a36639",
   "metadata": {
    "deletable": false,
    "editable": false
   },
   "source": [
    "We can approximate the theoretical distribution of _Bin(n,p)_ by drawing many random samples from the distribution and plotting a **density** histogram of the sample data. \n",
    "\n",
    "In the code below, you are going to repeatedly draw random samples from a Bin(77, 0.10) distribution using sample sizes of 50, 500 and 5000 and plot the resulting empirical distributions of your samples.  \n",
    "\n",
    "You'll then compare this to the theoretical distribution you plotted in 1d.\n",
    "\n",
    "Fill in all the ellipses (...) in the code below to complete this.\n",
    "\n",
    "\n",
    "You should see that the empirical distributions approach the theoretical distribution as the sample size increases.  \n",
    "\n",
    "\n",
    "\n"
   ]
  },
  {
   "cell_type": "code",
   "execution_count": null,
   "id": "8258dc87-33a7-42e8-89bd-e04fc044c7f2",
   "metadata": {
    "tags": [
     "otter_answer_cell"
    ]
   },
   "outputs": [],
   "source": [
    "\n",
    "#Randomly sample 50 values from Bin(77,0.10)\n",
    "sample_50 = ...\n",
    "\n",
    "#Randomly sample 500 values from Bin(77,0.10) \n",
    "sample_500 = ...\n",
    "\n",
    "\n",
    "#Randomly sample 5000 values from Bin(77,0.10) \n",
    "sample_5000 = ...\n",
    "\n",
    "# Create a figure that will have 4 subplots (4 histograms))\n",
    "fig, ax = plt.subplots(nrows=4, ncols=1, figsize = (3,5))\n",
    "\n",
    "\n",
    "plt.subplots_adjust(hspace=1)\n",
    "\n",
    "# Plot a density histogram of the sample data of size 50\n",
    "# ax[0] indicates we are going to plot this distribution in the first out of 4 subplots\n",
    "# Use density histogram because we are binning a list of simulated numbers to estimate the probabilities\n",
    "ax[0].hist(sample_50, density=True, bins = np.arange(-0.5, 100, 1))\n",
    "ax[0].set_axisbelow(True)\n",
    "ax[0].grid(alpha=0.25)\n",
    "ax[0].set_xlim([0, 25]);\n",
    "ax[0].set_title(\"Simulated Bin(77, 0.10) distribution using sample of size 50\")\n",
    "\n",
    "\n",
    "\n",
    "# Use the same format as above to plot \n",
    "# a density histogram of the sample data of size 500.\n",
    "# Note, to put this as the 2nd plot out of 4, use ax[1] (instead of ax[0])\n",
    "...\n",
    "ax[1].set_axisbelow(True)\n",
    "ax[1].grid(alpha=0.25)\n",
    "ax[1].set_xlim([0, 25]);\n",
    "ax[1].set_title(\"Simulated Bin(77, 0.10) distribution using sample of size 500\")\n",
    "\n",
    "# Plot a density histogram of the sample data of size 5000\n",
    "...\n",
    "ax[2].set_axisbelow(True)\n",
    "ax[2].grid(alpha=0.25)\n",
    "ax[2].set_xlim([0, 25]);\n",
    "ax[2].set_title(\"Simulated Bin(77, 0.10) distribution using sample of size 5000\")\n",
    "\n",
    "\n",
    "# Plot the actual theoretical distribution.  Use bar because we know the exact probabilities:\n",
    "...\n",
    "ax[3].set_axisbelow(True)\n",
    "ax[3].grid(alpha=0.25);\n",
    "ax[3].set_xlim([0, 25]);\n",
    "ax[3].set_title(\"Theoretical Binomial Distribution, n=77, p=0.10\")\n",
    "\n",
    "plt.show()"
   ]
  },
  {
   "cell_type": "markdown",
   "id": "d8e52e30-ef86-41f8-9feb-10ad181f547d",
   "metadata": {
    "deletable": false,
    "editable": false
   },
   "source": [
    "<!-- END QUESTION -->\n",
    "\n",
    "\n",
    "You should see that the simulated/empirical distributions approach the theoretical distribution as the sample size increases.  "
   ]
  },
  {
   "cell_type": "markdown",
   "id": "b12e9fa3-c48f-4525-8f14-a2ced50c9d36",
   "metadata": {
    "deletable": false,
    "editable": false
   },
   "source": [
    "<!-- BEGIN QUESTION -->\n",
    "\n",
    "[Back to top](#top)\n",
    "\n",
    "<a id='p3'></a>\n",
    "\n",
    "\n",
    "<hr style=\"border: 5px solid #003262;\" />\n",
    "<hr style=\"border: 1px solid #fdb515;\" />\n",
    "\n",
    "## <span style='color:Red'>  Question 2 (9 points) ##\n"
   ]
  },
  {
   "cell_type": "markdown",
   "id": "1ca2d6a3-bef1-46de-b64c-3ba63974cf24",
   "metadata": {
    "deletable": false,
    "editable": false
   },
   "source": [
    "Let $X$ be a continuous random variable with support $1 \\leq x \\leq 7$.  \n",
    "\n",
    "The graph of the PDF $f(x)$ for $X$ is shown here:\n",
    "\n",
    "<img src=\"img/PDF.png\" width=\"500\"> \n",
    "\n",
    "a).  What is $P(3.25\\leq X \\leq 5)$?  Show all work using LaTex and give your final answer as a fully simplified fraction.\n",
    "\n",
    "b).  What is $E[X]$?  Show all work using LaTeX and give your final answer as a fully simplified fraction.\n",
    "\n",
    "\n",
    "Answer both questions in the same cell below using LaTeX.\n"
   ]
  },
  {
   "cell_type": "markdown",
   "id": "3efa9d36",
   "metadata": {
    "tags": [
     "otter_answer_cell"
    ]
   },
   "source": [
    "_Type your answer here, replacing this text._"
   ]
  },
  {
   "cell_type": "markdown",
   "id": "0b8cf2a9-05c5-4763-8221-2e8d37a3339a",
   "metadata": {
    "deletable": false,
    "editable": false
   },
   "source": [
    "<!-- END QUESTION -->\n",
    "\n",
    "To check your answer to 2a enter it below.  Note that this autograder test is not worth any points, it's just for you to check your work above to make sure you're on the right track. "
   ]
  },
  {
   "cell_type": "code",
   "execution_count": null,
   "id": "aa366f26-d153-486a-ac6a-a9873f7ae7d1",
   "metadata": {
    "tags": [
     "otter_answer_cell"
    ]
   },
   "outputs": [],
   "source": [
    "answer_2a = ...\n",
    "answer_2a"
   ]
  },
  {
   "cell_type": "code",
   "execution_count": null,
   "id": "294968b9",
   "metadata": {
    "deletable": false,
    "editable": false
   },
   "outputs": [],
   "source": [
    "grader.check(\"q2_check\")"
   ]
  },
  {
   "cell_type": "markdown",
   "id": "f6608431-858e-4bf1-8453-53f355220f13",
   "metadata": {},
   "source": [
    "[Back to top](#top)\n",
    "\n",
    "<a id='p2'></a>\n",
    "\n",
    "<hr style=\"border: 5px solid #003262;\" />\n",
    "<hr style=\"border: 1px solid #fdb515;\" />\n",
    "\n",
    "## <span style='color:Red'>   Question 3: Poisson & Exponential Distributions Video Assignment (7 pts) ## "
   ]
  },
  {
   "cell_type": "markdown",
   "id": "f61e8f97-e9f4-442a-8e1e-dfda5a829c42",
   "metadata": {},
   "source": [
    "#### Complete this [Video Assignment (click this link)](https://canvas.colorado.edu/courses/126264/assignments/2428897) available on Canvas (to receive points you must watch the entire video and answer the embedded questions).\n",
    "\n",
    "The slides for this video are from Lesson 12 and 14 and are located in the Canvas Modules.\n",
    "As you watch the video, fill in the code below along with the video so you can practice with the concepts in the video.\n",
    "\n",
    "<img src=\"img/Poisson.png\">\n"
   ]
  },
  {
   "cell_type": "markdown",
   "id": "33cc3a27-7fdf-44ab-9ad9-421cd5ff907c",
   "metadata": {},
   "source": [
    "**Example:**  There are an average of 2.79 major earthquakes in the world each year, and major earthquakes occur independently (assume we're ignoring aftershocks).  What is the probability of exactly 3 major earthquakes happening next year?"
   ]
  },
  {
   "cell_type": "code",
   "execution_count": null,
   "id": "488efac8-a4ff-4765-b6ff-5b6f772919ef",
   "metadata": {},
   "outputs": [],
   "source": [
    "# Calculate using the Poisson PMF formula\n",
    "\n",
    "..."
   ]
  },
  {
   "cell_type": "markdown",
   "id": "355c4245-a365-4681-9720-75a6300d167b",
   "metadata": {},
   "source": [
    "We can also calculate this directly using built-in PMF function in Scipy:\n",
    "https://docs.scipy.org/doc/scipy/reference/stats.html \n"
   ]
  },
  {
   "cell_type": "code",
   "execution_count": null,
   "id": "c86c4206-6d33-45b6-bd4c-e1de460b18ec",
   "metadata": {},
   "outputs": [],
   "source": [
    "# Calculate using Scipy built-in PMF function\n",
    "\n",
    "...\n",
    "\n"
   ]
  },
  {
   "cell_type": "markdown",
   "id": "9ab504a7-4355-44a8-b87e-1ac624fe8e32",
   "metadata": {},
   "source": [
    "Plot the PMF of $X\\sim Poi(3)$ "
   ]
  },
  {
   "cell_type": "code",
   "execution_count": null,
   "id": "11d5d16a-6a52-464c-a268-a81a7e927cbb",
   "metadata": {},
   "outputs": [],
   "source": [
    "..."
   ]
  },
  {
   "cell_type": "markdown",
   "id": "5d7ff4ee-2983-495e-b790-95602286ada4",
   "metadata": {},
   "source": [
    "What is the probability that **at least** 3 earthquakes happen next year?  Calculate using the PMF formula.  \n"
   ]
  },
  {
   "cell_type": "code",
   "execution_count": null,
   "id": "c58da158-bbe8-44d8-a5a6-42fbe87993aa",
   "metadata": {},
   "outputs": [],
   "source": [
    "..."
   ]
  },
  {
   "cell_type": "code",
   "execution_count": null,
   "id": "05fd2caa-e226-4ef9-95bd-038c4f0d7b8d",
   "metadata": {},
   "outputs": [],
   "source": [
    "..."
   ]
  },
  {
   "cell_type": "markdown",
   "id": "e1a37036-4a3e-4856-a450-2b7ae882aad8",
   "metadata": {},
   "source": [
    "We can also calculate this directly using built-in CDF function in Scipy:\n",
    "\n",
    "Use Scipy's CDF to calculate the probability that **at least** 3 earthquakes happen next year.    "
   ]
  },
  {
   "cell_type": "code",
   "execution_count": null,
   "id": "131b175c-51c1-499c-b424-3091245b4793",
   "metadata": {},
   "outputs": [],
   "source": [
    "..."
   ]
  },
  {
   "cell_type": "markdown",
   "id": "dac45bec-d1be-43d5-9354-a57aff1f4ad7",
   "metadata": {},
   "source": [
    "Plot the PMF of $X\\sim Poi(\\lambda)$, for various different values of $\\lambda$, and compare/contrast how $\\lambda$ affects the distribution."
   ]
  },
  {
   "cell_type": "code",
   "execution_count": null,
   "id": "1c439e36-96b1-4fe3-818d-35e0e898f172",
   "metadata": {},
   "outputs": [],
   "source": [
    "..."
   ]
  },
  {
   "cell_type": "markdown",
   "id": "2719be49-53a4-4eee-bc28-2517b730d3b4",
   "metadata": {},
   "source": [
    "**Randomly sampling from a Poisson distribution:** \n",
    "\n",
    "Use Scipy to randomly sample 10 datapoints from a Poisson distribution with $\\lambda = 2.79$"
   ]
  },
  {
   "cell_type": "code",
   "execution_count": null,
   "id": "59c3d343-2877-4315-af24-54c15263235a",
   "metadata": {},
   "outputs": [],
   "source": [
    "..."
   ]
  },
  {
   "cell_type": "markdown",
   "id": "869fbbf1-e978-4dea-a028-dfb13af31a38",
   "metadata": {},
   "source": [
    "Plot the distribution of a sample of 100 datapoints randomly sampled from a Poisson distribution with $\\lambda = 2.79$"
   ]
  },
  {
   "cell_type": "code",
   "execution_count": null,
   "id": "27087d4f-af7f-4dc4-b341-fb585a2ef379",
   "metadata": {},
   "outputs": [],
   "source": [
    "..."
   ]
  },
  {
   "cell_type": "markdown",
   "id": "666cf0b6-59c3-4dda-9d0f-1f31cb02a705",
   "metadata": {},
   "source": [
    "Let's compare the empirical (i.e. simulated) distribution with the theoretical distribution.  Experiment with how the empirical distribution changes as the sample size increases."
   ]
  },
  {
   "cell_type": "code",
   "execution_count": null,
   "id": "5a14f254-879f-40f5-a7f4-c5a7d8e528c9",
   "metadata": {},
   "outputs": [],
   "source": [
    "#Simulated Values\n",
    "sample_size = ...\n",
    "sample = ...\n",
    "bins = np.arange(-0.5, 15, 1)\n",
    "\n",
    "#Actual theoretical probabilities\n",
    "max = 15\n",
    "X = np.array(range(max+1))\n",
    "pmf = ...\n",
    "\n",
    "fig, ax = plt.subplots(nrows=2, ncols=1)\n",
    "plt.subplots_adjust(hspace=0.5)\n",
    "\n",
    "# Use histogram because we are binning a list of simulate numbers to calculate the probabilities\n",
    "ax[0].hist(sample, edgecolor='white', density=True, bins=bins)\n",
    "ax[0].set_axisbelow(True)\n",
    "ax[0].grid(alpha=0.25)\n",
    "ax[0].set_xlim([0, 15]);\n",
    "ax[0].set_title(\"Simulated Poisson Distribution: lambda = 2.79\")\n",
    "\n",
    "\n",
    "# Use bar because we know the probabilities\n",
    "ax[1].bar(X, pmf, edgecolor='white', width=1)\n",
    "ax[1].set_axisbelow(True)\n",
    "ax[1].grid(alpha=0.25);\n",
    "ax[1].set_xlim([0, 15]);\n",
    "ax[1].set_title(\"Theoretical Poisson Distribution, lambda = 2.79\")\n",
    "\n",
    "plt.show()"
   ]
  },
  {
   "cell_type": "markdown",
   "id": "57539092-3695-4028-af5b-cbbc551ca6e6",
   "metadata": {},
   "source": [
    "## The Exponential Distribution with Python\n",
    "***"
   ]
  },
  {
   "cell_type": "markdown",
   "id": "8d71d566-69fa-4a71-9abe-9101896cff96",
   "metadata": {},
   "source": [
    "<img src=\"img/Exponential.png\">"
   ]
  },
  {
   "cell_type": "markdown",
   "id": "84996ee2-af67-47df-886a-af3182450ea2",
   "metadata": {},
   "source": [
    "Usage note!  Check your documentation!  We have been using the following PDF for the exponential:\n",
    "\n",
    "$$f(x) = \\lambda e^{-\\lambda x} \\text{  for  } x \\in [0, \\infty)$$\n",
    "\n",
    "where $\\lambda$ is the **rate** at which events happen.\n",
    "\n",
    "... but scipy uses a variant that instead has parameter called *scale* that's $1/\\lambda$ instead.  See documentation:\n",
    "\n",
    "https://docs.scipy.org/doc/scipy/reference/generated/scipy.stats.expon.html\n",
    "\n",
    "- A common parameterization for expon is in terms of the rate parameter lambda, such that pdf = lambda * exp(-lambda * x). This parameterization corresponds to using scale = 1 / lambda.\n",
    "\n",
    "They're in the wrong here, but what can we do?  We have to use `scale=1/lambda` for our usage.\n"
   ]
  },
  {
   "cell_type": "markdown",
   "id": "32603dfb-5e24-418c-bbe1-16263b0e0c48",
   "metadata": {},
   "source": [
    "###  Calculating probabilities for an exponential distribution\n",
    "***  \n",
    "\n"
   ]
  },
  {
   "cell_type": "markdown",
   "id": "632c2e15-759d-4227-9c3a-6d87a450bce6",
   "metadata": {},
   "source": [
    "\n",
    "\n",
    "The scipy stats module has the following built-in functions for the exponential distribution:\n",
    "\n",
    " - pdf:  `stats.expon.pdf(x, scale=1/lambda)`\n",
    "\n",
    " - cdf:  `stats.expon.cdf(x, scale=1/lambda)`\n",
    "\n",
    " - ppf: (for finding percentiles):  `stats.expon.ppf(probability, scale=1/lambda)`\n",
    "\n",
    " - rvs:  for randomly sampling from an exponential distribution:  `stats.expon.rvs(samplesize=1000, scale=1/lambda)`\n"
   ]
  },
  {
   "cell_type": "markdown",
   "id": "af9ba945-3e9a-4252-a27a-0993b3499c97",
   "metadata": {},
   "source": [
    "### Exercise 2:\n",
    "**In an exponential distribution, let $X$= amount of time (in minutes) a postal clerk spends with a customer.   The time is known from historical data to have an average amount of time equal to four minutes, with parameter λ=0.25.    What is the probability that a clerk spends four to five minutes with a randomly selected customer?!**\n",
    "\n",
    "\n"
   ]
  },
  {
   "cell_type": "code",
   "execution_count": null,
   "id": "d5977761-2228-43f3-9186-2e03945247cc",
   "metadata": {},
   "outputs": [],
   "source": [
    "#Your answer here:\n",
    "..."
   ]
  },
  {
   "cell_type": "markdown",
   "id": "97b7a198-5461-4346-bff3-940d75947d09",
   "metadata": {},
   "source": [
    "Let's visualize this using the graph of the pdf and the `plt.plot` function"
   ]
  },
  {
   "cell_type": "code",
   "execution_count": null,
   "id": "636953e5-00bb-41a9-b15b-bdaeed7cd3dd",
   "metadata": {},
   "outputs": [],
   "source": [
    "#plot the exponential pdf\n",
    "x = np.linspace(0, 10, 1000)\n",
    "\n",
    "y = stats.expon.pdf(x, scale=4)\n",
    "\n",
    "plt.plot(x,y )\n",
    "#shade the region between x=4 and x=5:\n",
    "plt.fill_between(x, stats.expon.pdf(x, scale=4), where=[(x > 4) and (x < 5) for x in x], label='area is approx 0.08', alpha=0.4)\n",
    "\n",
    "\n",
    "#choose where to position the legend\n",
    "plt.legend(loc=(.60,.6), shadow=True)\n",
    "\n",
    "#add title:\n",
    "plt.title(\"PDF of X~exp(0.25)\")"
   ]
  },
  {
   "cell_type": "markdown",
   "id": "92edab82-3d1d-4fce-a5e9-83fbf5221fbb",
   "metadata": {
    "deletable": false,
    "editable": false
   },
   "source": [
    "<!-- BEGIN QUESTION -->\n",
    "\n",
    "[Back to top](#top)\n",
    "\n",
    "<a id='p4'></a>\n",
    "\n",
    "<hr style=\"border: 5px solid #003262;\" />\n",
    "<hr style=\"border: 1px solid #fdb515;\" />\n",
    "\n",
    "## <span style='color:Red'>  Question 4 (8 points)"
   ]
  },
  {
   "cell_type": "markdown",
   "id": "5cfeca99-f4e8-4c54-82ce-59d7bdb6b14f",
   "metadata": {
    "deletable": false,
    "editable": false
   },
   "source": [
    "A factory manufactures solid state hard drives for Seagate Technology. \n",
    "\n",
    "For each scenario described below: \n",
    " - i).  State the distribution you could use to model this random variable in the form $RandomVariable\\sim DistributionName(parameter\\_values)$\n",
    " \n",
    " - ii).  State any assumptions you need to make to use this distribution to model this situation.  \n",
    "\n",
    " - iii). State the support of the Random Variable.\n",
    "\n",
    "\n",
    "\n",
    " - iv).  Give the probability distribution for the random variable (i.e. either the pmf or pdf) as a closed-form function.\n",
    "\n",
    "\n",
    " \n",
    "\n",
    "SCENARIOS:\n",
    "\n",
    "\n",
    "**a).**    Approximately $4\\%$ of hard drives that come off of a particular assembly line are defective.  Let $Y$ be the number that are defective in a batch of $300$.  \n",
    "\n",
    "**b).**  Approximately $4\\%$ of hard drives that come off of a particular assembly line are defective.   Let $W$ be whether or not a hard drive is defective.  \n",
    "\n",
    "**c).**  On average, there are  $8$ defective drives per day.  Let $X$ be the time (in hours) between defective drives.\n",
    "\n",
    "**d).**  On average, there are $8$ defective drives per day.  Let $M$ be the number of defective drives in a day.  \n",
    "\n",
    "\n",
    "Answer all parts (a-d) below in the same cell:\n",
    "\n"
   ]
  },
  {
   "cell_type": "markdown",
   "id": "6183cc5b",
   "metadata": {
    "tags": [
     "otter_answer_cell"
    ]
   },
   "source": [
    "_Type your answer here, replacing this text._"
   ]
  },
  {
   "cell_type": "markdown",
   "id": "f9796eff-8e87-44f6-9c0c-99ae2ec747f1",
   "metadata": {
    "deletable": false,
    "editable": false
   },
   "source": [
    "<!-- END QUESTION -->\n",
    "\n",
    "[Back to top](#top)\n",
    "\n",
    "<a id='p5'></a>\n",
    "\n",
    "<hr style=\"border: 5px solid #003262;\" />\n",
    "<hr style=\"border: 1px solid #fdb515;\" />\n",
    "\n",
    "## <span style='color:Red'>  Question 5"
   ]
  },
  {
   "cell_type": "markdown",
   "id": "8a686f53-6156-4b17-b2f7-c6051b477c37",
   "metadata": {},
   "source": [
    "The Huffmeister floodplane in Houston has historically been estimated to flood at an average rate of $1$ flood every $500$ years. A flood plane with that rate of flooding is called a $500$ year floodplane.      You can assume the time that each flood occurs is independent and the average number of floods over time is constant.  "
   ]
  },
  {
   "cell_type": "markdown",
   "id": "770edb52-4e15-4685-ae74-e72e725c1beb",
   "metadata": {
    "deletable": false,
    "editable": false
   },
   "source": [
    "<!-- BEGIN QUESTION -->\n",
    "\n",
    "### <span style='color:Red'>  Question 5a (4 points)\n",
    "\n",
    "What is the probability that at least one flood will occur within the next 90 years?   Fully justify/show all steps and write your answer using LaTeX.  Round your final answer to 5 decimal places.  "
   ]
  },
  {
   "cell_type": "markdown",
   "id": "bda94ef6",
   "metadata": {
    "tags": [
     "otter_answer_cell"
    ]
   },
   "source": [
    "_Type your answer here, replacing this text._"
   ]
  },
  {
   "cell_type": "markdown",
   "id": "3def8d81-3272-4ddc-a1e3-be23f861702e",
   "metadata": {
    "deletable": false,
    "editable": false
   },
   "source": [
    "<!-- END QUESTION -->\n",
    "\n",
    "To check your answer to part (a), enter it in the cell below.  Note that this check is not worth any points.  To receive credit you must fully justify your answer in the cell above."
   ]
  },
  {
   "cell_type": "code",
   "execution_count": null,
   "id": "2d177140-11ea-45bb-9198-32735a519771",
   "metadata": {
    "tags": [
     "otter_answer_cell"
    ]
   },
   "outputs": [],
   "source": [
    "q5a_answer = ...\n"
   ]
  },
  {
   "cell_type": "code",
   "execution_count": null,
   "id": "a08a926c",
   "metadata": {
    "deletable": false,
    "editable": false
   },
   "outputs": [],
   "source": [
    "grader.check(\"q5a_check\")"
   ]
  },
  {
   "cell_type": "markdown",
   "id": "b1b3d1ad-647c-41b0-bce7-21ca504213dc",
   "metadata": {
    "deletable": false,
    "editable": false
   },
   "source": [
    "### <span style='color:Red'>  Question 5b (2 points)\n",
    "\n",
    "What is the **expected number** of years until the next flood?"
   ]
  },
  {
   "cell_type": "code",
   "execution_count": null,
   "id": "b45fb05d-0e99-4f1f-a188-63047a02ed3a",
   "metadata": {
    "tags": [
     "otter_answer_cell"
    ]
   },
   "outputs": [],
   "source": [
    "q5b_answer = ..."
   ]
  },
  {
   "cell_type": "code",
   "execution_count": null,
   "id": "5dabea7f",
   "metadata": {
    "deletable": false,
    "editable": false
   },
   "outputs": [],
   "source": [
    "grader.check(\"q5b\")"
   ]
  },
  {
   "cell_type": "markdown",
   "id": "22a87d14-c1f3-40d4-b045-f3e525c353ed",
   "metadata": {},
   "source": [
    "[Back to top](#top)\n",
    "\n",
    "<a id='p6'></a>\n",
    "\n",
    "<hr style=\"border: 5px solid #003262;\" />\n",
    "<hr style=\"border: 1px solid #fdb515;\" />\n",
    "\n",
    "## <span style='color:Red'>  Question 6"
   ]
  },
  {
   "cell_type": "markdown",
   "id": "8bad3c78-d6aa-4b58-8d0a-390cfb27c4c9",
   "metadata": {},
   "source": [
    "The weekly amount of money spent on maintainence and repairs by a company was observed over a long period of time to be approximately normally distributed with mean $\\$500$ and variance $\\$400$.   \n",
    "\n",
    "Let $W$ represent the weekly amount of money spent on maintenance/repairs.  \n",
    "\n",
    "That is, $W \\sim N(500,400)$.\n",
    "\n",
    "\n"
   ]
  },
  {
   "cell_type": "markdown",
   "id": "e6489b99-2862-4e16-b3f6-d50707547776",
   "metadata": {
    "deletable": false,
    "editable": false
   },
   "source": [
    "<!-- BEGIN QUESTION -->\n",
    "\n",
    "<hr style=\"border: 5px solid #003262;\" />\n",
    "<hr style=\"border: 1px solid #fdb515;\" />\n",
    "\n",
    "## <span style='color:Red'>  Question 6a (2 points)"
   ]
  },
  {
   "cell_type": "markdown",
   "id": "b973c92c-49d2-465b-9a9b-cde3999232cc",
   "metadata": {
    "deletable": false,
    "editable": false
   },
   "source": [
    "Graph the pdf of $W$ on the domain $400\\leq W \\leq600$ \n",
    "\n",
    "(Hint: use `plt.plot` and an appropriate method from  `scipy.stats.norm`: \n",
    "https://docs.scipy.org/doc/scipy/reference/generated/scipy.stats.norm.html). **Be sure to carefully read what parameters the method takes as inputs.**\n",
    "\n"
   ]
  },
  {
   "cell_type": "code",
   "execution_count": null,
   "id": "3c154b27-2ce1-45d5-9d23-0db45ca06f0f",
   "metadata": {
    "tags": [
     "otter_answer_cell"
    ]
   },
   "outputs": [],
   "source": [
    "\n",
    "# Create a vector of w values between 400 and 600\n",
    "w = np.linspace(400, 600, 1000) \n",
    "\n",
    "...\n",
    "# Your code above this line\n",
    "\n",
    "\n",
    "plt.title(\"PDF of W ~ N(500, 400)\")\n",
    "plt.ylabel(\"probability density\")\n",
    "plt.xlabel(\"W\")\n",
    "\n",
    "\n",
    "plt.show()"
   ]
  },
  {
   "cell_type": "markdown",
   "id": "b8b767c9-d769-43a7-a97b-6c2686f0042a",
   "metadata": {
    "deletable": false,
    "editable": false
   },
   "source": [
    "<!-- END QUESTION -->\n",
    "\n",
    "<hr style=\"border: 5px solid #003262;\" />\n",
    "<hr style=\"border: 1px solid #fdb515;\" />\n",
    "\n",
    "## <span style='color:Red'>  Question 6b (1 point)"
   ]
  },
  {
   "cell_type": "markdown",
   "id": "b7f2401b-54d6-4ac4-b0cc-99fcdb024d38",
   "metadata": {
    "deletable": false,
    "editable": false
   },
   "source": [
    "If $\\$475$ is budgeted for next week, what is the probability that the actual costs will exceed the budgeted amount?   \n",
    "\n",
    "Use an appropriate method from  `scipy.stats.norm` to calculate this:\n",
    "https://docs.scipy.org/doc/scipy/reference/generated/scipy.stats.norm.html\n",
    "\n"
   ]
  },
  {
   "cell_type": "code",
   "execution_count": null,
   "id": "8acd2799-ab9e-43a6-930f-67dbaacb8958",
   "metadata": {
    "tags": [
     "otter_answer_cell"
    ]
   },
   "outputs": [],
   "source": [
    "exceed_budget = ...\n",
    "\n",
    "print(\"P(W > 475) = {:.4f}\".format(exceed_budget))"
   ]
  },
  {
   "cell_type": "code",
   "execution_count": null,
   "id": "8cd7a2e5",
   "metadata": {
    "deletable": false,
    "editable": false
   },
   "outputs": [],
   "source": [
    "grader.check(\"q6b\")"
   ]
  },
  {
   "cell_type": "markdown",
   "id": "f28dc38e-afae-4e76-8909-9e7c42f7f7af",
   "metadata": {},
   "source": [
    "We can show graphically what your answer above means using the following code.  Read through the code so you understand what it is doing."
   ]
  },
  {
   "cell_type": "code",
   "execution_count": null,
   "id": "4a180d55-1257-44bc-ad49-4c585dbc8625",
   "metadata": {},
   "outputs": [],
   "source": [
    "\n",
    "\n",
    "w = np.linspace(400, 600, 1000)\n",
    "\n",
    "# Plot the PDF \n",
    "plt.plot(w, stats.norm.pdf(w,500,20))\n",
    "\n",
    "# Shade the area that represents the probability we calculated\n",
    "(\n",
    "plt.fill_between(w, stats.norm.pdf(w,500,20), \n",
    "                 where=[(w > 475)  for w in w], \n",
    "                 label='P(W>475) = '+str(round(exceed_budget,2)), \n",
    "                 alpha=0.4)\n",
    ")\n",
    "\n",
    "\n",
    "# Add labels to show where the shaded region starts/ends\n",
    "labels=[400, 475, 600]\n",
    "plt.xticks(labels)\n",
    "plt.legend()\n",
    "plt.title(\"PDF of W ~ N(500, 400)\")\n",
    "plt.ylabel(\"probability density\")\n",
    "plt.xlabel(\"W\")\n",
    "\n",
    "\n",
    "\n",
    "\n",
    "plt.show()"
   ]
  },
  {
   "cell_type": "markdown",
   "id": "5582a703-1eab-4037-9e19-d5362e6bf6b2",
   "metadata": {
    "deletable": false,
    "editable": false
   },
   "source": [
    "<!-- BEGIN QUESTION -->\n",
    "\n",
    "<hr style=\"border: 5px solid #003262;\" />\n",
    "<hr style=\"border: 1px solid #fdb515;\" />\n",
    "\n",
    "## <span style='color:Red'>  Question 6c (3 points)"
   ]
  },
  {
   "cell_type": "markdown",
   "id": "fa0d0e42-f783-4849-a495-f8eecebb4be7",
   "metadata": {
    "deletable": false,
    "editable": false
   },
   "source": [
    "i).  What is the probability the actual costs are between  $\\$475$ and $\\$515$?   Use an appropriate method from scipy.stats.norm to calculate this: https://docs.scipy.org/doc/scipy/reference/generated/scipy.stats.norm.html\n",
    "\n",
    "\n",
    "ii).  Then show graphically what this number means in terms of the PDF (for full credit your output should have the same format and labels as the plot shown directly above). "
   ]
  },
  {
   "cell_type": "code",
   "execution_count": null,
   "id": "1cbcc2b0-8b65-4caa-8f2a-a4fdaeed2941",
   "metadata": {
    "tags": [
     "otter_answer_cell"
    ]
   },
   "outputs": [],
   "source": [
    "q6ci_answer = ..."
   ]
  },
  {
   "cell_type": "code",
   "execution_count": null,
   "id": "c743da0f-4daa-495b-afeb-4f2ff38e45f7",
   "metadata": {
    "tags": [
     "otter_answer_cell"
    ]
   },
   "outputs": [],
   "source": [
    "# Code to create graph for 5c(ii)\n",
    "\n",
    "...\n",
    "\n",
    "plt.show()"
   ]
  },
  {
   "cell_type": "code",
   "execution_count": null,
   "id": "6a7dc2bf",
   "metadata": {
    "deletable": false,
    "editable": false
   },
   "outputs": [],
   "source": [
    "grader.check(\"q6c\")"
   ]
  },
  {
   "cell_type": "markdown",
   "id": "c5e23d4f-49bd-4311-b865-1a6be42e3df0",
   "metadata": {
    "deletable": false,
    "editable": false
   },
   "source": [
    "<!-- END QUESTION -->\n",
    "\n",
    "***"
   ]
  },
  {
   "cell_type": "markdown",
   "id": "169d7663",
   "metadata": {},
   "source": [
    "<br/><br/>\n",
    "<hr style=\"border: 5px solid #003262;\" />\n",
    "<hr style=\"border: 1px solid #fdb515;\" />\n",
    "\n",
    "## Congratulations! You have finished Homework 6!"
   ]
  },
  {
   "cell_type": "markdown",
   "id": "cc31acf9",
   "metadata": {},
   "source": [
    "If you discussed this assignment with any other students in the class (in a manner that is acceptable as described by the Collaboration policy above) please **include their names** here:\n",
    "\n",
    "**Collaborators**: *list collaborators here*\n",
    "\n",
    "If while completing this assignment you reference any websites other than those linked in this assignment or provided on Canvas please list those references here:\n",
    "\n",
    "**External references**:  *list any additional websites you referenced*"
   ]
  },
  {
   "cell_type": "markdown",
   "id": "46739932",
   "metadata": {},
   "source": [
    "### Submission Instructions\n",
    "\n",
    "Before proceeding any further, **save this notebook.**\n",
    "\n",
    "After running the `grader.export()` cell provided below, **2 files will be created**: a zip file and pdf file.  You can download them using the links provided below OR by finding them in the same folder where this juptyer notebook resides in your JuptyerHub.\n",
    "\n",
    "To receive credit on this assignment, **you must submit BOTH of these files\n",
    "to their respective Gradescope portals:** \n",
    "\n",
    "\n",
    "* **Homework 6 Autograded**: Submit the zip file that is output by the `grader.export()` cell below to the HW6 Autograded assignment in Gradescope.\n",
    "\n",
    "* **Homework 6 Manually Graded**: Submit your hw06.PDF to the HW6 Manually Graded assignment in Gradescope.  **It is your responsibility to fully review your PDF file before submitting and make sure that all your lines of code are visible and any LaTeX has correctly compiled and is fully viewable.**  **YOU MUST SELECT THE PAGES CORRESPONDING TO EACH QUESTION WHEN YOU UPLOAD TO GRADESCOPE.** If not, you will lose points.    \n",
    "\n",
    "**TROUBLESHOOTING TIPS**  If you are having any issues compiling your assignment, please [read through these troubleshooting tips first](https://docs.google.com/document/d/1ndr3Wj1PSF5qzlLMaBJznwh6QGeEXjd5TAJ6nf9EJvo/edit?usp=sharing), then post any questions on Piazza.\n",
    "\n",
    "If you are noticing an issue with your plots not printing to the PDF here is the fix:  In the toolbar go to Settings.  Then  Disable autosave.  This is enabled by default in JupyterLab. \n",
    "\n",
    "\n",
    "**You are responsible for ensuring your submission follows our requirements. We will not be granting regrade requests nor extensions to submissions that don't follow instructions.** If you encounter any difficulties with submission, please don't hesitate to reach out to staff prior to the deadline."
   ]
  },
  {
   "cell_type": "code",
   "execution_count": null,
   "id": "38928168-880c-48fc-b854-dbe2963e7041",
   "metadata": {},
   "outputs": [],
   "source": [
    "nb = slc.Nb_checker()\n",
    "nb.run_check(\"hw06.ipynb\")"
   ]
  },
  {
   "cell_type": "markdown",
   "id": "fb371886",
   "metadata": {
    "deletable": false,
    "editable": false
   },
   "source": [
    "## Submission\n",
    "\n",
    "Make sure you have run all cells in your notebook in order before running the cell below, so that all images/graphs appear in the output. The cell below will generate a zip file for you to submit. **Please save before exporting!**\n",
    "\n",
    "AFTER running the cell below, click on <a href='hw06.pdf' download>this link to download the PDF </a> to upload to Gradescope.  There will be a separate link that appears after running the cell below with a link to download the zip file to upload to Gradescope."
   ]
  },
  {
   "cell_type": "code",
   "execution_count": null,
   "id": "a2f4a3b1",
   "metadata": {
    "deletable": false,
    "editable": false
   },
   "outputs": [],
   "source": [
    "# Save your notebook first, then run this cell to export your submission.\n",
    "grader.export(run_tests=True)"
   ]
  },
  {
   "cell_type": "markdown",
   "id": "850f4bc0",
   "metadata": {},
   "source": [
    " "
   ]
  }
 ],
 "metadata": {
  "kernelspec": {
   "display_name": "Python 3 (ipykernel)",
   "language": "python",
   "name": "python3"
  },
  "language_info": {
   "codemirror_mode": {
    "name": "ipython",
    "version": 3
   },
   "file_extension": ".py",
   "mimetype": "text/x-python",
   "name": "python",
   "nbconvert_exporter": "python",
   "pygments_lexer": "ipython3",
   "version": "3.11.9"
  },
  "otter": {
   "OK_FORMAT": true,
   "tests": {
    "1b": {
     "name": "1b",
     "points": 2,
     "suites": [
      {
       "cases": [
        {
         "code": ">>> assert get_hash(round(prob_9, 3)) == '8eb69fe48ceeb8bb7d08789dabd30eff'\n",
         "hidden": false,
         "locked": false
        },
        {
         "code": ">>> assert get_hash(round(prob_7_to_10, 3)) == 'f83293212c36437b1f91cca25578929d'\n",
         "hidden": false,
         "locked": false
        },
        {
         "code": ">>> assert get_hash(round(ev_X, 3)) == '971455e5b307f416baac0cb24b710792'\n",
         "hidden": false,
         "locked": false
        },
        {
         "code": ">>> assert get_hash(round(sd_X, 3)) == 'a2ca131cd2dad5e1d859fbd3f7d9349d'\n",
         "hidden": false,
         "locked": false
        }
       ],
       "scored": true,
       "setup": "",
       "teardown": "",
       "type": "doctest"
      }
     ]
    },
    "1c": {
     "name": "1c",
     "points": 1,
     "suites": [
      {
       "cases": [
        {
         "code": ">>> assert get_hash(round(bi_recalculated, 3)) == '8eb69fe48ceeb8bb7d08789dabd30eff'\n",
         "hidden": false,
         "locked": false
        }
       ],
       "scored": true,
       "setup": "",
       "teardown": "",
       "type": "doctest"
      }
     ]
    },
    "q1e": {
     "name": "q1e",
     "points": 1,
     "suites": [
      {
       "cases": [
        {
         "code": ">>> assert get_hash(round(prob_at_most_10, 3)) == '31848e7a15e5da22bfefea472718c52e'\n",
         "hidden": false,
         "locked": false
        },
        {
         "code": ">>> assert get_hash(round(prob_7_to_10, 3)) == 'f83293212c36437b1f91cca25578929d'\n",
         "hidden": false,
         "locked": false
        }
       ],
       "scored": true,
       "setup": "",
       "teardown": "",
       "type": "doctest"
      }
     ]
    },
    "q2_check": {
     "name": "q2_check",
     "points": 0,
     "suites": [
      {
       "cases": [
        {
         "code": ">>> assert get_hash(round(answer_2a, 6)) == '4b4de284a48f14f2be1c54ce4a62b451'\n",
         "hidden": false,
         "locked": false
        }
       ],
       "scored": true,
       "setup": "",
       "teardown": "",
       "type": "doctest"
      }
     ]
    },
    "q5a_check": {
     "name": "q5a_check",
     "points": 0,
     "suites": [
      {
       "cases": [
        {
         "code": ">>> assert get_hash(round(q5a_answer, 5)) == '3401a9c323b4ce1884c91d86e0b0aca6'\n",
         "hidden": false,
         "locked": false
        }
       ],
       "scored": true,
       "setup": "",
       "teardown": "",
       "type": "doctest"
      }
     ]
    },
    "q5b": {
     "name": "q5b",
     "points": 2,
     "suites": [
      {
       "cases": [
        {
         "code": ">>> assert get_hash(round(q5b_answer, 3)) == 'cee631121c2ec9232f3a2f028ad5c89b'\n",
         "hidden": false,
         "locked": false
        }
       ],
       "scored": true,
       "setup": "",
       "teardown": "",
       "type": "doctest"
      }
     ]
    },
    "q6b": {
     "name": "q6b",
     "points": 1,
     "suites": [
      {
       "cases": [
        {
         "code": ">>> assert get_hash(round(exceed_budget, 5)) == '579e9eaf15df9f09c9775f131c4d0caf'\n",
         "hidden": false,
         "locked": false
        }
       ],
       "scored": true,
       "setup": "",
       "teardown": "",
       "type": "doctest"
      }
     ]
    },
    "q6c": {
     "name": "q6c",
     "points": 1,
     "suites": [
      {
       "cases": [
        {
         "code": ">>> assert get_hash(round(q6ci_answer, 5)) == '5274e54635b4e6322c5c33490a61ec94'\n",
         "hidden": false,
         "locked": false
        }
       ],
       "scored": true,
       "setup": "",
       "teardown": "",
       "type": "doctest"
      }
     ]
    }
   }
  }
 },
 "nbformat": 4,
 "nbformat_minor": 5
}
