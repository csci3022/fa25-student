{
 "cells": [
  {
   "cell_type": "code",
   "execution_count": null,
   "id": "1f5e3aee",
   "metadata": {
    "deletable": false,
    "editable": false
   },
   "outputs": [],
   "source": [
    "# Initialize Otter\n",
    "import otter\n",
    "grader = otter.Notebook(\"hw08.ipynb\")"
   ]
  },
  {
   "cell_type": "markdown",
   "id": "bbbf1431",
   "metadata": {},
   "source": [
    "# Homework 8:  Central Limit Theorem and Confidence Intervals"
   ]
  },
  {
   "cell_type": "markdown",
   "id": "2b1fa56f",
   "metadata": {},
   "source": [
    "\n",
    "\n",
    "## Due Date: Thursday Oct 23rd by 11:59 PM MT on Gradescope\n",
    "\n",
    "\n",
    "## Collaboration Policy\n",
    "\n",
    "Data science is a collaborative activity.  However a key step in learning and retention is **creating solutions on your own.**  \n",
    "\n",
    "Below are examples of acceptable vs unacceptable use of resources and collaboration when doing HW assignments in CSCI 3022.\n",
    "\n",
    "\n",
    "The following would be some **examples of cheating** when working on HW assignments in CSCI 3022.  Any of these constitute a **violation of the course's collaboration policy and will result in an F in the course and a trip to the honor council**.   \n",
    "\n",
    "\n",
    " - Consulting web pages that may have a solution to a given homework problem or one similar is cheating.  However, consulting the class notes, and web pages that explain the material taught in class but do NOT show a solution to the homework problem in question are permissible to view.  Clearly, there's a fuzzy line here between a valid use of resources and cheating. To avoid this line, one should merely consult the course notes, the course textbook, and references that contain syntax and/or formulas.\n",
    " - Copying a segment of code or math solution of three lines or more from another student from a printout, handwritten copy, or by looking at their computer screen \n",
    " - Allowing another student to copy a segment of your code or math solution of three lines or more\n",
    " - Taking a copy of another student's work (or a solution found online) and then editing that copy\n",
    " - Reading someone else’s solution to a problem on the HW before writing your own.\n",
    " - Asking someone to write all or part of a program or solution for you.\n",
    " - Asking someone else for the code necessary to fix the error for you, other than for simple syntactical errors\n",
    " \n",
    "\n",
    "\n",
    "On the other hand, the following are some **examples of things which would NOT usually be\n",
    "considered to be cheating**:\n",
    " - Working on a HW problem on your own first and then discussing with a classmate a particular part in the problem solution where you are stuck.  After clarifying any questions you should then continue to write your solution independently.\n",
    " - Asking someone (or searching online) how a particular construct in the language works.\n",
    " - Asking someone (or searching online) how to formulate a particular construct in the language.\n",
    " - Asking someone for help in finding an error in your program.  \n",
    " - Asking someone why a particular construct does not work as you expected in a given program.\n",
    "   \n",
    "\n",
    "To test whether you are truly doing your own work and retaining what you've learned you should be able to easily reproduce from scratch and explain a HW solution that was your own when asked in office hours by a TA/Instructor or on a quiz/exam.   \n",
    "\n",
    "\n",
    "If you have difficulty in formulating the general solution to a problem on your own, or\n",
    "you have difficulty in translating that general solution into a program, it is advisable to see\n",
    "your instructor or teaching assistant rather than another student as this situation can easily\n",
    "lead to a, possibly inadvertent, cheating situation.\n",
    "\n",
    "We are here to help!  Visit HW Hours and/or post questions on Piazza!\n"
   ]
  },
  {
   "cell_type": "markdown",
   "id": "1ee34b34-778f-48d8-87a7-173cd97a049c",
   "metadata": {},
   "source": [
    "#### Grading\n",
    "Grading is broken down into autograded answers and manually graded answers. \n",
    "\n",
    "For autograded answers, the results of your code are compared to provided and/or hidden tests.\n",
    "\n",
    "For manually graded answers you must show and explain all steps.  Graders will evaluate how well you answered the question and/or fulfilled the requirements of the question.\n",
    "\n",
    "\n",
    "\n",
    "\n",
    "\n",
    "**Assigned Readings On These Topics from Class Schedule**: \n",
    "\n",
    "* [The Central Limit Theorem](https://inferentialthinking.com/chapters/14/4/Central_Limit_Theorem.html?highlight=central+limit+theorem)\n",
    "* [Variability of the Sample Mean](https://inferentialthinking.com/chapters/14/5/Variability_of_the_Sample_Mean.html)\n",
    "\n",
    "* [Confidence Intervals](https://inferentialthinking.com/chapters/13/3/Confidence_Intervals.html)\n",
    "\n",
    "* [Using Confidence Intervals](https://inferentialthinking.com/chapters/13/4/Using_Confidence_Intervals.html)\n",
    "\n",
    "* [Choosing a Sample Size](https://inferentialthinking.com/chapters/14/6/Choosing_a_Sample_Size.html)\n",
    "\n",
    "* [Bootstrapping](https://inferentialthinking.com/chapters/13/2/Bootstrap.html)\n",
    "\n",
    "\n",
    "\n",
    "**Assignment Learning Objectives**\n",
    "\n",
    "* Explain the difference between parameters and statistics \n",
    "\n",
    "* Explain the difference between a population distribution, a sample distribution and the sampling distribution of a statistic\n",
    "\n",
    "* Simulate the empirical sampling distribution of a statistic\n",
    "\n",
    "* Apply and interpret the Central Limit Theorem for sums and means (what is it used for?  What conditions must hold to use it?)\n",
    "\n",
    "* Define what a confidence interval is and how to interpret it.  \n",
    "\n",
    "* Calculate confidence intervals using the bootstrapping percentile method.\n",
    "\n",
    "* Explain key assumptions and limitations of the bootstrapping percentile method.\n",
    "\n",
    "* Use the CLT to create and interpret Confidence Intervals for the population mean.\n",
    "\n",
    "* Use CLT to create and interpret confidence intervals for population proportions.\n",
    "\n",
    "* Determine sample sizes based on desired confidence interval widths.\n",
    "\n"
   ]
  },
  {
   "cell_type": "markdown",
   "id": "2343477b-3132-4010-88a6-a99b760d8be6",
   "metadata": {},
   "source": [
    "## <a id='top'></a>\n",
    "---\n",
    "\n",
    "<hr style=\"border: 5px solid #003262;\" />\n",
    "<hr style=\"border: 1px solid #fdb515;\" />"
   ]
  },
  {
   "cell_type": "code",
   "execution_count": null,
   "id": "20af1960",
   "metadata": {},
   "outputs": [],
   "source": [
    "import pandas as pd\n",
    "# These lines import the Numpy and Datascience modules.\n",
    "import numpy as np\n",
    "from matplotlib.ticker import PercentFormatter\n",
    "%matplotlib inline\n",
    "# These lines do some fancy plotting magic.\n",
    "import matplotlib\n",
    "\n",
    "import matplotlib.pyplot as plt\n",
    "plt.style.use('fivethirtyeight')\n",
    "\n",
    "import hashlib\n",
    "\n",
    "from matplotlib import patches\n",
    "#from ipywidgets import interact, interactive, fixed\n",
    "#import ipywidgets as widgets\n",
    "\n",
    "\n",
    "def get_hash(num):\n",
    "    \"\"\"Helper function for assessing correctness\"\"\"\n",
    "    return hashlib.md5(str(num).encode()).hexdigest()"
   ]
  },
  {
   "cell_type": "markdown",
   "id": "f7d924b1-d8e7-448b-a9db-3f4b838a7d15",
   "metadata": {},
   "source": [
    "***\n",
    "\n",
    "\n",
    "<a id='p2'></a>\n",
    "\n",
    "<hr style=\"border: 5px solid #003262;\" />\n",
    "<hr style=\"border: 1px solid #fdb515;\" />\n",
    "\n",
    "## <span style='color:Red'>  Question 1 "
   ]
  },
  {
   "cell_type": "markdown",
   "id": "3d65aee4-e7fe-40a2-924f-4e182edec0f6",
   "metadata": {},
   "source": [
    "A hardware store receives a shipment of 10,000 bolts that are supposed to be 12 cm long. \n",
    "The mean of this shipment of 10,000 bolts is indeed 12 cm, and the standard deviation is 0.2 cm.   \n",
    "\n",
    "For the following questions, determine if you have enough information to answer.  If you do, then use built-in python functions to calculate the probability. If not, enter -1 for your answer."
   ]
  },
  {
   "cell_type": "code",
   "execution_count": null,
   "id": "18519822-09b6-4b12-9c6a-d4c04ee9a098",
   "metadata": {},
   "outputs": [],
   "source": [
    "# Run this cell to import stats\n",
    "from scipy import stats as stats"
   ]
  },
  {
   "cell_type": "markdown",
   "id": "b2eccad9-15ea-4d13-a844-89e28fb28baa",
   "metadata": {
    "deletable": false,
    "editable": false
   },
   "source": [
    "<hr style=\"border: 5px solid #003262;\" />\n",
    "<hr style=\"border: 1px solid #fdb515;\" />\n",
    "\n",
    "## <span style='color:Red'>  Question 1a (1 pt)\n",
    "    \n",
    "What is the probability that a randomly chosen bolt is less than 10 cm long?"
   ]
  },
  {
   "cell_type": "code",
   "execution_count": null,
   "id": "6275496c-1e6c-4ac5-a9de-bf4482bcc28d",
   "metadata": {
    "tags": [
     "otter_answer_cell"
    ]
   },
   "outputs": [],
   "source": [
    "q1a_answer = ..."
   ]
  },
  {
   "cell_type": "code",
   "execution_count": null,
   "id": "0eb4843a",
   "metadata": {
    "deletable": false,
    "editable": false
   },
   "outputs": [],
   "source": [
    "grader.check(\"q1a\")"
   ]
  },
  {
   "cell_type": "markdown",
   "id": "89e5370b-fe37-4b75-b50e-4502cfcc373b",
   "metadata": {
    "deletable": false,
    "editable": false
   },
   "source": [
    "<hr style=\"border: 5px solid #003262;\" />\n",
    "<hr style=\"border: 1px solid #fdb515;\" />\n",
    "\n",
    "## <span style='color:Red'>  Question 1b (2 pts)\n",
    "\n",
    "For quality control, the hardware store chooses 100 bolts at random to measure.  They will declare the shipment defective and return it to the manufacturer if the average length of 100 bolts is less than 11.97 cm or greater than 12.04 cm.    Find the probability that the shipment is found satisfactory (i.e. not defective)."
   ]
  },
  {
   "cell_type": "code",
   "execution_count": null,
   "id": "210123b3-f9cc-495a-893c-16bdec631f6d",
   "metadata": {
    "tags": [
     "otter_answer_cell"
    ]
   },
   "outputs": [],
   "source": [
    "q1b_answer = ..."
   ]
  },
  {
   "cell_type": "code",
   "execution_count": null,
   "id": "5d5d6143",
   "metadata": {
    "deletable": false,
    "editable": false
   },
   "outputs": [],
   "source": [
    "grader.check(\"q1b\")"
   ]
  },
  {
   "cell_type": "markdown",
   "id": "c605daa5-ce9b-475f-b1bc-1ee9238961d7",
   "metadata": {},
   "source": [
    "<hr style=\"border: 5px solid #003262;\" />\n",
    "<hr style=\"border: 1px solid #fdb515;\" />\n",
    "\n",
    "## <span style='color:Red'>  Question 2  ##"
   ]
  },
  {
   "cell_type": "markdown",
   "id": "4a9d505b-83fe-4bff-89f4-b518cf9a6128",
   "metadata": {},
   "source": [
    "The file `data/income_data.csv` contains Age and Income information from a fictitious city in the Midwest with 5000 residents.   Consider this data to be our population data."
   ]
  },
  {
   "cell_type": "markdown",
   "id": "0efe8658-ca05-433e-9e83-2e4b5885023b",
   "metadata": {
    "deletable": false,
    "editable": false
   },
   "source": [
    "<!-- BEGIN QUESTION -->\n",
    "\n",
    "<hr style=\"border: 5px solid #003262;\" />\n",
    "<hr style=\"border: 1px solid #fdb515;\" />\n",
    "\n",
    "## <span style='color:Red'>   Question 2a (2 pts) ## "
   ]
  },
  {
   "cell_type": "markdown",
   "id": "0a10222f-0461-4293-8326-1e962c06157b",
   "metadata": {
    "deletable": false,
    "editable": false
   },
   "source": [
    "Load the data into a pandas DataFrame called `dfIncome`, calculate the mean of the Income data and then  make a **density histogram** of the Distribution of the Income data **with 15 bins**.   Include a title for your plot and label the x-axis (we have provided a label for the y-axis).\n",
    "Note we have included code to mark where the population mean lies on the histogram."
   ]
  },
  {
   "cell_type": "code",
   "execution_count": null,
   "id": "bba0d064-032c-41d0-940d-c372d0113092",
   "metadata": {
    "tags": [
     "otter_answer_cell"
    ]
   },
   "outputs": [],
   "source": [
    "dfIncome = ...\n",
    "\n",
    "mean_income = ...\n",
    "\n",
    "print(\"Population income mean is\", mean_income)\n",
    "\n",
    "...\n",
    "plt.xticks(np.arange(0, 210000, step=50000))\n",
    "# write code to plot density histogram above this line\n",
    "\n",
    "plt.ylabel(\"Probability Per Dollar\") # Since this is a density histogram, the y-units are probability per unit x\n",
    "#Add a triangle marker to indicate where the population mean is\n",
    "plt.scatter(mean_income, -.0000001, marker='^', color='red', s=300)\n"
   ]
  },
  {
   "cell_type": "markdown",
   "id": "bf4a264c-e930-45e9-90db-cdf288a92dd6",
   "metadata": {
    "deletable": false,
    "editable": false
   },
   "source": [
    "<!-- END QUESTION -->\n",
    "\n",
    "<!-- BEGIN QUESTION -->\n",
    "\n",
    "<hr style=\"border: 5px solid #003262;\" />\n",
    "<hr style=\"border: 1px solid #fdb515;\" />\n",
    "\n",
    "## <span style='color:Red'>   Question 2bi (2 pts) ## "
   ]
  },
  {
   "cell_type": "markdown",
   "id": "e5471ecb-8091-468b-8fb1-b437b4fc2853",
   "metadata": {
    "deletable": false,
    "editable": false
   },
   "source": [
    "Write a function to collect a random sample of size `sample_size` with replacement from `dfIncome`  and plot the **density histogram** of the empirical distribution of the income for your sample.  Use 15 bins for your histogram and set the x-axis range to be from (0,210000).   (Hint: use the dataframe method `.sample()`). Include a title and label for both axes.          \n",
    "Then run the cells provided below to output 3 separate distributions for sample sizes of $10$, $100$ and $1000$. \n"
   ]
  },
  {
   "cell_type": "code",
   "execution_count": null,
   "id": "26a0a55d-f6e7-460c-96e0-2dd7aac904de",
   "metadata": {
    "tags": [
     "otter_answer_cell"
    ]
   },
   "outputs": [],
   "source": [
    "def income_sample(df, sample_size):\n",
    "    \n",
    "...\n",
    "    plt.xticks(np.arange(0, 210000, step=50000))\n",
    "    \n",
    "# rest of code above this line"
   ]
  },
  {
   "cell_type": "code",
   "execution_count": null,
   "id": "264610e5-4e1c-429a-bdcd-04d56f7ccfbf",
   "metadata": {
    "tags": [
     "otter_answer_cell"
    ]
   },
   "outputs": [],
   "source": [
    "income_sample(dfIncome,10)"
   ]
  },
  {
   "cell_type": "code",
   "execution_count": null,
   "id": "f6b0fbe7-99ec-4c50-8f6c-faa487305da8",
   "metadata": {
    "tags": [
     "otter_answer_cell"
    ]
   },
   "outputs": [],
   "source": [
    "income_sample(dfIncome,100)"
   ]
  },
  {
   "cell_type": "code",
   "execution_count": null,
   "id": "4a92d945-7bef-4e84-8440-b7b03a59218f",
   "metadata": {
    "tags": [
     "otter_answer_cell"
    ]
   },
   "outputs": [],
   "source": [
    "income_sample(dfIncome,1000)"
   ]
  },
  {
   "cell_type": "markdown",
   "id": "7cc172c5-a77c-4928-aef6-6ac0905545a4",
   "metadata": {
    "deletable": false,
    "editable": false
   },
   "source": [
    "<!-- END QUESTION -->\n",
    "\n",
    "<!-- BEGIN QUESTION -->\n",
    "\n",
    "<hr style=\"border: 5px solid #003262;\" />\n",
    "<hr style=\"border: 1px solid #fdb515;\" />\n",
    "\n",
    "## <span style='color:Red'>   Question 2bii (1 pt) ## "
   ]
  },
  {
   "cell_type": "markdown",
   "id": "38a1f311-e829-421a-9bf2-3e0a4f4855e8",
   "metadata": {
    "deletable": false,
    "editable": false
   },
   "source": [
    "What happens to the shape of the empirical sample distributions of income as you increase the sample size, and how does it relate to the population distribution? "
   ]
  },
  {
   "cell_type": "markdown",
   "id": "f5cc38fb",
   "metadata": {
    "tags": [
     "otter_answer_cell"
    ]
   },
   "source": [
    "_Type your answer here, replacing this text._"
   ]
  },
  {
   "cell_type": "markdown",
   "id": "1692a709-6ecc-404e-8bd8-0a40615e616b",
   "metadata": {
    "deletable": false,
    "editable": false
   },
   "source": [
    "<!-- END QUESTION -->\n",
    "\n",
    "<!-- BEGIN QUESTION -->\n",
    "\n",
    "<hr style=\"border: 5px solid #003262;\" />\n",
    "<hr style=\"border: 1px solid #fdb515;\" />\n",
    "\n",
    "## <span style='color:Red'>   Question 2c (2 pts) ## "
   ]
  },
  {
   "cell_type": "markdown",
   "id": "23016d79-dd6e-445f-a62f-b3d2d51a4cc3",
   "metadata": {
    "deletable": false,
    "editable": false
   },
   "source": [
    "If we want to estimate the **mean** income of the population we can draw a sample from the population and compute the sample mean.  As we learned in class, since samples can vary, the sample mean can vary and thus it is a random variable and has its own distribution.\n",
    "\n",
    "\n",
    "i).  Complete the function `income_sample_mean` below to randomly sample `sample_size` rows from `dfIncome` with replacement and return the **sample mean of income** for that sample. \n",
    "\n",
    "\n",
    "ii).  Complete the function `income_sample_mean_dist` below to simulate `num_simulations` of randomly sampling `sample_size` rows from `dfIncome` with replacement and calculate the sample mean of income for each sample.\n",
    "Store the sample means in an np.array called `means`.  The function should output a **density** histogram of the empirical sample mean income distribution.    On the histogram, include two **triangle** markers on the histogram like in part 1a: A red one for the population mean (that you calculated in part 1A) and a yellow one for the mean of the `num_simulations` sample mean estimates.\n",
    "Use 25 bins, do not set a range, and keep the x-axis limits fixed across all plots for comparison.\n",
    "Include a title and labels for the x and y axes.\n",
    "\n",
    "Then run the cells provided below to output 3 separate distributions for `num_simulations`=100,000 and `sample_size` = $10$, $100$ and $1000$\n",
    "\n"
   ]
  },
  {
   "cell_type": "code",
   "execution_count": null,
   "id": "29959773-632c-45a1-b931-cefdcf508128",
   "metadata": {
    "tags": [
     "otter_answer_cell"
    ]
   },
   "outputs": [],
   "source": [
    "def income_sample_mean(df, sample_size):\n",
    "    ..."
   ]
  },
  {
   "cell_type": "code",
   "execution_count": null,
   "id": "330e7abf-d1c9-464d-8deb-3c7081c612b5",
   "metadata": {
    "tags": [
     "otter_answer_cell"
    ]
   },
   "outputs": [],
   "source": [
    "def income_sample_mean_dist(df, sample_size, num_simulations):\n",
    "    means = ...\n",
    "      # 'means' stores \"num_simulations\" means from samples of size \"sample_size\"\n",
    "    \n",
    "    ...\n",
    "    plt.xlim([25000,95000])\n",
    "\n",
    "    \n",
    "# Your code for part (ii) above"
   ]
  },
  {
   "cell_type": "code",
   "execution_count": null,
   "id": "d74a1864-4db1-4717-87a3-bd9491714c46",
   "metadata": {
    "tags": [
     "otter_answer_cell"
    ]
   },
   "outputs": [],
   "source": [
    "income_sample_mean_dist(dfIncome, 10, 100000)"
   ]
  },
  {
   "cell_type": "code",
   "execution_count": null,
   "id": "8ce54e9e-a731-4464-a67c-b74e121d421e",
   "metadata": {
    "tags": [
     "otter_answer_cell"
    ]
   },
   "outputs": [],
   "source": [
    "income_sample_mean_dist(dfIncome, 100, 100000)"
   ]
  },
  {
   "cell_type": "code",
   "execution_count": null,
   "id": "b917154a-9089-43ba-8164-f819434c01c6",
   "metadata": {
    "tags": [
     "otter_answer_cell"
    ]
   },
   "outputs": [],
   "source": [
    "income_sample_mean_dist(dfIncome, 1000, 100000)"
   ]
  },
  {
   "cell_type": "markdown",
   "id": "480daeaa-3a17-4b2e-a6c8-871f0255a57c",
   "metadata": {
    "deletable": false,
    "editable": false
   },
   "source": [
    "<!-- END QUESTION -->\n",
    "\n",
    "<!-- BEGIN QUESTION -->\n",
    "\n",
    "<hr style=\"border: 5px solid #003262;\" />\n",
    "<hr style=\"border: 1px solid #fdb515;\" />\n",
    "\n",
    "## <span style='color:Red'>   Question 2d (1 pt) ## "
   ]
  },
  {
   "cell_type": "markdown",
   "id": "e0704be5-a4f7-4eee-bb34-5b0a75c62c4f",
   "metadata": {
    "deletable": false,
    "editable": false
   },
   "source": [
    "Describe the shapes of the empirical sample mean distributions. \n",
    "What happens to the mean and standard deviations of these distributions as you increase the sample size?\n",
    "What is the name of the theorem that explains what you are observing?"
   ]
  },
  {
   "cell_type": "markdown",
   "id": "487ebf7f",
   "metadata": {
    "tags": [
     "otter_answer_cell"
    ]
   },
   "source": [
    "_Type your answer here, replacing this text._"
   ]
  },
  {
   "cell_type": "markdown",
   "id": "f1af3a25-b688-4d41-bc71-1d5abfc1280f",
   "metadata": {
    "deletable": false,
    "editable": false
   },
   "source": [
    "<!-- END QUESTION -->\n",
    "\n",
    "<hr style=\"border: 5px solid #003262;\" />\n",
    "<hr style=\"border: 1px solid #fdb515;\" />\n",
    "\n",
    "## <span style='color:Red'>  Question 3 \n",
    "\n",
    "We rarely have data from an entire population, like we had available in Question 2.  Instead we usually only have access to a sample.  \n",
    "\n",
    "Let `sample` be the following random sample of size 500 with replacement from the `dfIncome[\"Income\"]` data from Question 2.\n",
    "To ensure we are all working with the same sample, we can set the `random_state` variable to a specific integer (https://pandas.pydata.org/docs/reference/api/pandas.DataFrame.sample.html)"
   ]
  },
  {
   "cell_type": "code",
   "execution_count": null,
   "id": "e56e6bf3-aa48-40cd-ba69-5f8c3b325768",
   "metadata": {
    "ExecuteTime": {
     "end_time": "2018-03-20T04:34:23.388186Z",
     "start_time": "2018-03-20T04:34:23.372185Z"
    },
    "manual_problem_id": "sample_with_proportions",
    "tags": []
   },
   "outputs": [],
   "source": [
    "# Just run this cell, so we are all working with the same sample data.\n",
    "sample = dfIncome[\"Income\"].sample(500, replace=True, random_state = 100)\n"
   ]
  },
  {
   "cell_type": "markdown",
   "id": "fc40aadb-f392-4d17-93b3-e113c99dafb8",
   "metadata": {},
   "source": [
    "Plot a density histogram of the sample data:"
   ]
  },
  {
   "cell_type": "code",
   "execution_count": null,
   "id": "7994f51b-5fb5-4273-9dc9-bfb6720de1f4",
   "metadata": {},
   "outputs": [],
   "source": [
    "# Plot Density Histogram of sample data:\n",
    "\n",
    "\n",
    "  "
   ]
  },
  {
   "cell_type": "markdown",
   "id": "9b7f750d-7094-4591-b091-b7d16f31d088",
   "metadata": {
    "deletable": false,
    "editable": false
   },
   "source": [
    "<hr style=\"border: 5px solid #003262;\" />\n",
    "<hr style=\"border: 1px solid #fdb515;\" />\n",
    "\n",
    "## <span style='color:Red'>  Question 3a (3 points)\n",
    "\n",
    "i). Calculate the sample mean and save it to the variable `sample_mean`\n",
    "\n",
    "ii). Use the Central Limit Theorem to use this sample data to find an approximate 95% confidence interval for the population mean income. \n",
    "\n",
    "Save the lower value of your CI as `CI_lower` and the upper value as `CI_upper`\n"
   ]
  },
  {
   "cell_type": "code",
   "execution_count": null,
   "id": "5e5fa47e-2221-4a35-b5b4-7fb32d366ae9",
   "metadata": {
    "scrolled": true,
    "tags": [
     "otter_answer_cell"
    ]
   },
   "outputs": [],
   "source": [
    "\n",
    "sample_mean = ...\n",
    "\n",
    "...\n",
    "\n",
    "CI_lower = ...\n",
    "\n",
    "CI_upper = ...\n",
    "\n",
    "print(\"95% CI for the population average income is [\", round(CI_lower,2), \",\", round(CI_upper,2), \"]\")\n"
   ]
  },
  {
   "cell_type": "code",
   "execution_count": null,
   "id": "47639a93",
   "metadata": {
    "deletable": false,
    "editable": false
   },
   "outputs": [],
   "source": [
    "grader.check(\"q3a\")"
   ]
  },
  {
   "cell_type": "markdown",
   "id": "d8c7e36e-06bd-4456-acf7-3c55e8445ed1",
   "metadata": {
    "deletable": false,
    "editable": false
   },
   "source": [
    "<!-- BEGIN QUESTION -->\n",
    "\n",
    "\n",
    "<hr style=\"border: 5px solid #003262;\" />\n",
    "<hr style=\"border: 1px solid #fdb515;\" />\n",
    "\n",
    "## <span style='color:Red'>  Question 3b (4 points)\n",
    "\n",
    "i). Describe in words how we can correctly interpret this confidence interval.  \n",
    "What does this interval tell us about the population? \n",
    "What does the $95\\%$ confidence level mean in this context?\n",
    "\n",
    "ii).  In this contrived example, we can actually calculate the population average income.  What is the population average income?  Is it within this particular confidence interval or not?  \n"
   ]
  },
  {
   "cell_type": "markdown",
   "id": "49346f7f",
   "metadata": {
    "tags": [
     "otter_answer_cell"
    ]
   },
   "source": [
    "_Type your answer here, replacing this text._"
   ]
  },
  {
   "cell_type": "code",
   "execution_count": null,
   "id": "c1a945da-d982-4776-b429-31b3905cfcc1",
   "metadata": {
    "tags": [
     "otter_answer_cell"
    ]
   },
   "outputs": [],
   "source": [
    "# Optional code cell. "
   ]
  },
  {
   "cell_type": "markdown",
   "id": "74614021-95e2-4742-8e53-6cd2ffbc010a",
   "metadata": {
    "deletable": false,
    "editable": false
   },
   "source": [
    "<!-- END QUESTION -->\n",
    "\n",
    "<hr style=\"border: 5px solid #003262;\" />\n",
    "<hr style=\"border: 1px solid #fdb515;\" />\n",
    "\n",
    "## <span style='color:Red'>  Question 3c (4 points)\n",
    "\n",
    "\n",
    "This question involves creating confidence intervals using bootstrapping.\n",
    "If you'd like a refresher of the concepts needed to answer this question, we recommend watching the following:\n",
    "\n",
    " -  **[Video: Intro to Confidence Intervals by Professor Oscamou](https://www.youtube.com/watch?v=pCr_Fggyp4w)**\n",
    " -  **[Video: Bootstrapping Confidence Intervals by Professor Oscamou](https://www.youtube.com/watch?v=x2NrjZM4fgQ)**\n",
    "----------------------------------\n",
    "                                                                       \n",
    "\n",
    "Suppose instead of a confidence interval for the population average income, we are interested in a confidence interval for the population **median** income.  The median may be a more useful parameter since the Income distribution is skewed. \n",
    "\n",
    "In this situation, the Central Limit Theorem does not apply.  Instead, we can use bootstrapping to compute the confidence interval.  \n",
    "    \n",
    "i). Complete the function `one_resampled_med` to take an input array of data, conduct one bootstrapped resample of the data and output the sample median of the bootstrapped resample.  **To pass the autograder**, you must use `np.random.choice` to create your resample.\n",
    "\n",
    "ii).  Use list comprehension to run the function `one_resampled_med` 100,000 times and store the results in a numpy array called `resampled_med`. \n",
    "\n",
    "iii). Create a density histogram of the entries in the `resampled_med` array.  Set the bin number equal to 20 when plotting your histogram. Label both axes and include a title on your plot.\n"
   ]
  },
  {
   "cell_type": "code",
   "execution_count": null,
   "id": "54b5c369-7ee7-49e5-bb6e-c027696cfa77",
   "metadata": {
    "tags": [
     "otter_answer_cell"
    ]
   },
   "outputs": [],
   "source": [
    "def one_resampled_med(data):\n",
    "    ...\n",
    "\n",
    "one_resampled_med(sample)"
   ]
  },
  {
   "cell_type": "code",
   "execution_count": null,
   "id": "ffaf1ac1-e4f9-4bac-a36c-7c3b9fc15762",
   "metadata": {
    "tags": [
     "otter_answer_cell"
    ]
   },
   "outputs": [],
   "source": [
    "resampled_med = ...\n",
    "\n",
    "# answer to part ii above"
   ]
  },
  {
   "cell_type": "code",
   "execution_count": null,
   "id": "8b8369c3-3885-42cd-9ca6-e1448a46c5e1",
   "metadata": {
    "tags": [
     "otter_answer_cell"
    ]
   },
   "outputs": [],
   "source": [
    "...\n",
    "# iii). your code for histogram above this line"
   ]
  },
  {
   "cell_type": "code",
   "execution_count": null,
   "id": "a29c79c0",
   "metadata": {
    "deletable": false,
    "editable": false
   },
   "outputs": [],
   "source": [
    "grader.check(\"q3c\")"
   ]
  },
  {
   "cell_type": "markdown",
   "id": "f63e49e6-6b17-4484-abaf-502943884665",
   "metadata": {
    "deletable": false,
    "editable": false
   },
   "source": [
    "<hr style=\"border: 5px solid #003262;\" />\n",
    "<hr style=\"border: 1px solid #fdb515;\" />\n",
    "\n",
    "## <span style='color:Red'>  Question 3d (1 point)\n",
    "Using the array `resampled_med`, find the values at the two edges of the middle 95% of the bootstrapped mean estimates. Compute the lower and upper ends of the interval, named `CI_med_lower` and `CI_med_upper` respectively. \n"
   ]
  },
  {
   "cell_type": "code",
   "execution_count": null,
   "id": "e13efc92-3af0-4c06-9ae8-92fe6f7d95f7",
   "metadata": {
    "tags": [
     "otter_answer_cell"
    ]
   },
   "outputs": [],
   "source": [
    "CI_med_lower = ...\n",
    "CI_med_upper= ...\n",
    "print(f\"Bootstrapped 95% confidence interval for the population median income: [{CI_med_lower:.2f}, {CI_med_upper:.2f}]\")"
   ]
  },
  {
   "cell_type": "code",
   "execution_count": null,
   "id": "60a2828a",
   "metadata": {
    "deletable": false,
    "editable": false
   },
   "outputs": [],
   "source": [
    "grader.check(\"q3d\")"
   ]
  },
  {
   "cell_type": "markdown",
   "id": "e3d9e6c4-f05c-4cab-91af-23b0db9d64e4",
   "metadata": {
    "deletable": false,
    "editable": false
   },
   "source": [
    "<!-- BEGIN QUESTION -->\n",
    "\n",
    "\n",
    "<hr style=\"border: 5px solid #003262;\" />\n",
    "<hr style=\"border: 1px solid #fdb515;\" />\n",
    "\n",
    "## <span style='color:Red'>  Question 3e (2 points)\n",
    "\n",
    "Again, in this contrived example we can calculate the actual population median income.  What is it?  Is it within the 95% CI interval you obtained via bootstrapping? \n",
    " \n"
   ]
  },
  {
   "cell_type": "markdown",
   "id": "8940ea87",
   "metadata": {
    "tags": [
     "otter_answer_cell"
    ]
   },
   "source": [
    "_Type your answer here, replacing this text._"
   ]
  },
  {
   "cell_type": "code",
   "execution_count": null,
   "id": "4c58e8da-7698-4ef5-aeae-21e1daf8d5bb",
   "metadata": {
    "tags": [
     "otter_answer_cell"
    ]
   },
   "outputs": [],
   "source": [
    "\n",
    "# Optional code cell "
   ]
  },
  {
   "cell_type": "markdown",
   "id": "ec5a23f2-01b7-4163-ad25-721e24fc45bd",
   "metadata": {
    "deletable": false,
    "editable": false
   },
   "source": [
    "<!-- END QUESTION -->\n",
    "\n",
    "<br>\n",
    "\n",
    "---\n",
    "\n",
    "<hr style=\"border: 5px solid #003262;\" />\n",
    "<hr style=\"border: 1px solid #fdb515;\" />\n",
    "\n",
    "## <span style='color:Red'>  Question 4 (8 pts)\n",
    "\n",
    "\n",
    "#### Video Assignment\n",
    "\n",
    "Complete this [Video Assignment: Confidence Intervals for Proportions (click this link)](https://canvas.colorado.edu/courses/126264/assignments/2527829) available on Canvas (to receive points you must watch the entire video and answer the embedded questions).  See the accompanying slides in Lesson 18.\n"
   ]
  },
  {
   "cell_type": "markdown",
   "id": "21e4ddbf-d3df-4baa-b2b6-bda9ce85b537",
   "metadata": {},
   "source": [
    "<hr style=\"border: 5px solid #003262;\" />\n",
    "<hr style=\"border: 1px solid #fdb515;\" />\n",
    "\n",
    "[Back to top](#top)\n",
    "\n",
    "<a id='p4'></a>\n",
    "\n",
    "## <span style='color:Red'>  Question 5. Sample Size and Confidence Level\n",
    "\n",
    "\n",
    "A data science class at the large University wants to estimate the **proportion of students at the school who use Instagram.** To do this, they need to take a random sample of students. You can assume that their method of sampling is equivalent to drawing at random with replacement from students at the school.\n"
   ]
  },
  {
   "cell_type": "markdown",
   "id": "a82c8beb-ad62-4448-b5f7-9dc06de6defb",
   "metadata": {
    "deletable": false,
    "editable": false
   },
   "source": [
    "<hr style=\"border: 5px solid #003262;\" />\n",
    "<hr style=\"border: 1px solid #fdb515;\" />\n",
    "\n",
    "## <span style='color:Red'>  Question 5a (2 points)\n",
    "Assign `smallest` to the **integer** (not float) that gives the smallest number of students they should sample to ensure that a **95%** confidence interval for the population proportion that has a width of no more than $8\\%$ from left end to right end. \n",
    "\n",
    "*Hint:* How can our data be represented to show if a student in the sample is an Instagram user? Given this, what assumptions can we make for the SD of the population? [Section 14.6](https://inferentialthinking.com/chapters/14/6/Choosing_a_Sample_Size.html#) might be helpful!\n",
    "\n",
    "*Note:* Notice that the smallest sample size has to be an integer, so if you get a non-integer for an answer, you need to round it up to the nearest integer.  The `np.ceil` function may be helpful.\n"
   ]
  },
  {
   "cell_type": "code",
   "execution_count": null,
   "id": "9c260d75-d7a8-4348-8ce9-23fdb18677ee",
   "metadata": {
    "tags": [
     "otter_answer_cell"
    ]
   },
   "outputs": [],
   "source": [
    "smallest = ...\n"
   ]
  },
  {
   "cell_type": "code",
   "execution_count": null,
   "id": "b57685b9",
   "metadata": {
    "deletable": false,
    "editable": false
   },
   "outputs": [],
   "source": [
    "grader.check(\"q5a\")"
   ]
  },
  {
   "cell_type": "markdown",
   "id": "d877b42a-0e92-4209-86c5-7e11bd91fdd1",
   "metadata": {
    "deletable": false,
    "editable": false
   },
   "source": [
    "<hr style=\"border: 5px solid #003262;\" />\n",
    "<hr style=\"border: 1px solid #fdb515;\" />\n",
    "\n",
    "## <span style='color:Red'>  Question 5b (2 points)\n",
    "    \n",
    "Suppose the data science class decides to construct a 90% confidence interval instead of a 95% confidence interval, but they still require that the width of the interval is no more than 8% from left end to right end. Will they need the same sample size as in Question 5a? \n",
    "\n",
    "Assign `sample_90` to the number corresponding to the correct answer.\n",
    "\n",
    "1. Yes, they must use the same sample size.\n",
    "2. No, a smaller sample size will work.\n",
    "3. No, they will need a bigger sample.\n"
   ]
  },
  {
   "cell_type": "code",
   "execution_count": null,
   "id": "57eec391",
   "metadata": {
    "tags": [
     "otter_answer_cell"
    ]
   },
   "outputs": [],
   "source": [
    "sample_90 = ..."
   ]
  },
  {
   "cell_type": "code",
   "execution_count": null,
   "id": "6f7ab5cb",
   "metadata": {
    "deletable": false,
    "editable": false
   },
   "outputs": [],
   "source": [
    "grader.check(\"q5b\")"
   ]
  },
  {
   "cell_type": "markdown",
   "id": "6ac68598-6558-40cc-8547-7b664c46704d",
   "metadata": {
    "deletable": false,
    "editable": false
   },
   "source": [
    "<hr style=\"border: 5px solid #003262;\" />\n",
    "<hr style=\"border: 1px solid #fdb515;\" />\n",
    "\n",
    "## <span style='color:Red'>  Question 5c (2 points)\n",
    "The professor tells the class that a 90% confidence interval for the parameter is constructed exactly like a 95% confidence interval, except that you have to go only 1.64 SDs on either side of the estimate (±1.64) instead of 2 SDs on either side (±2). Assign `smallest_num` to the smallest number of students they should sample to ensure that a **90%** confidence interval for the parameter has a width of no more than 8% from left end to right end. \n",
    "\n",
    "*Note:* Just like in Question 5a, your answer should an **integer**. \n"
   ]
  },
  {
   "cell_type": "code",
   "execution_count": null,
   "id": "f3791d50-205b-4262-ba9f-3d1d00c1465f",
   "metadata": {
    "tags": [
     "otter_answer_cell"
    ]
   },
   "outputs": [],
   "source": [
    "smallest_num = ...\n"
   ]
  },
  {
   "cell_type": "code",
   "execution_count": null,
   "id": "026598ea",
   "metadata": {
    "deletable": false,
    "editable": false
   },
   "outputs": [],
   "source": [
    "grader.check(\"q5c\")"
   ]
  },
  {
   "cell_type": "markdown",
   "id": "bf835962-76c8-46e5-94ac-5148a0b14f76",
   "metadata": {},
   "source": [
    "For this next exercise, please consult [Section 14.3.4](https://inferentialthinking.com/chapters/14/3/SD_and_the_Normal_Curve.html#the-standard-normal-cdf) of the textbook for similar examples.\n",
    "\n",
    "The students are curious about how the professor came up with the value 1.64 in Question 5c. "
   ]
  },
  {
   "cell_type": "markdown",
   "id": "ac6f124b-30ee-468f-b0e0-e200d4c9d1b8",
   "metadata": {},
   "source": [
    "To start, run the code below to visualize a plot of the standard normal distribution (with mean 0 and standard deviation 1).  \n",
    "\n",
    "The `plt.fill_between` method shades in the region from -1.64 to +1.64 SDs. \n"
   ]
  },
  {
   "cell_type": "code",
   "execution_count": null,
   "id": "04e0f8e0-08b6-469b-a05d-8e00d34f80dd",
   "metadata": {},
   "outputs": [],
   "source": [
    "# Just run this cell\n",
    "\n",
    "x = np.linspace(-4, 4, 1000)\n",
    "plt.plot(x, stats.norm.pdf(x,0))\n",
    "plt.xticks([-3,-1.64,0,1.64,3])\n",
    "plt.title(\"Normal Distribution: mean = 0, std = 1\")\n",
    "plt.fill_between(x, stats.norm.pdf(x,0), where=[(x > -1.64) and (x < 1.64) for x in x], alpha=0.4)\n"
   ]
  },
  {
   "cell_type": "markdown",
   "id": "e7f4ba5c-c5e0-44fa-b908-ab78745b64b8",
   "metadata": {
    "deletable": false,
    "editable": false
   },
   "source": [
    "<hr style=\"border: 5px solid #003262;\" />\n",
    "<hr style=\"border: 1px solid #fdb515;\" />\n",
    "\n",
    "## <span style='color:Red'>  Question 5d (1 point)\n",
    "To verify that 1.64 is in fact the correct cutoff for a 90% confidence interval, use built-in python functions to calculate the shaded area in the plot above.  Assign your answer to the variable `shaded_area`\n",
    "\n",
    "*Hint:* Recall the acronym `cdf` stands for `cumulative distribution function`. It measures the proportion to the left of a specified point under a probability histogram."
   ]
  },
  {
   "cell_type": "code",
   "execution_count": null,
   "id": "4a708629",
   "metadata": {
    "tags": [
     "otter_answer_cell"
    ]
   },
   "outputs": [],
   "source": [
    "shaded_area = ...\n",
    "round(shaded_area, 2)\n"
   ]
  },
  {
   "cell_type": "code",
   "execution_count": null,
   "id": "599451cc",
   "metadata": {
    "deletable": false,
    "editable": false
   },
   "outputs": [],
   "source": [
    "grader.check(\"q5d\")"
   ]
  },
  {
   "cell_type": "markdown",
   "id": "0a213a37-d03f-4eed-877f-99c7e5f915c4",
   "metadata": {},
   "source": [
    "The acronym `ppf` stands for `probability point function`.  It's the inverse of the `cdf`.  \n",
    "\n",
    "Specifically, `ppf(y)` returns the exact point where the probability of everything to the left is equal to y. This can be thought of as the percentile function since the ppf tells us the value of a given percentile of the data.\n",
    "\n",
    "To find the lower SD cut-off for a 90% confidence interval, notice that we want the value on the x-axis of the standard normal distribution such that the area to left is equal to $\\frac{1-.90}{2}$ = 0.05\n",
    "\n",
    "We can find this by running the following code:\n"
   ]
  },
  {
   "cell_type": "code",
   "execution_count": null,
   "id": "5b11ba58",
   "metadata": {},
   "outputs": [],
   "source": [
    "stats.norm.ppf(.05)"
   ]
  },
  {
   "cell_type": "markdown",
   "id": "4421ad45-a93e-428c-ba56-36cc1294434c",
   "metadata": {},
   "source": [
    "By symmetry the upper SD cutoff is the opposite of this value:"
   ]
  },
  {
   "cell_type": "code",
   "execution_count": null,
   "id": "e74c514f",
   "metadata": {},
   "outputs": [],
   "source": [
    "-stats.norm.ppf(.05)"
   ]
  },
  {
   "cell_type": "markdown",
   "id": "42fd2e57-04fe-4b47-a6be-380148d0a81c",
   "metadata": {
    "deletable": false,
    "editable": false
   },
   "source": [
    "<hr style=\"border: 5px solid #003262;\" />\n",
    "<hr style=\"border: 1px solid #fdb515;\" />\n",
    "\n",
    "## <span style='color:Red'>  Question 5e (2 points)\n",
    "\n",
    "a).  To construct a 99% confidence interval for a parameter, how many Standard Errors do you need to add and subtract to the sample estimate?   Give your answer as a positive value, rounded to the nearest hundredth.  Assign `SE_99` to your answer.  \n",
    "\n",
    "\n",
    "b). Using your rounded answer for `SE_99` from part a, assign `smallest_num_99` to the **integer** (not float) that gives the smallest number of students you should sample to ensure that a **99%** confidence interval for the parameter has a width of no more than $8\\%$ from left end to right end.  \n",
    "\n"
   ]
  },
  {
   "cell_type": "code",
   "execution_count": null,
   "id": "0262e379-8cbb-4486-8a28-f547c2fdf00b",
   "metadata": {
    "tags": [
     "otter_answer_cell"
    ]
   },
   "outputs": [],
   "source": [
    "SE_99 = ...\n"
   ]
  },
  {
   "cell_type": "code",
   "execution_count": null,
   "id": "bbd57b64",
   "metadata": {
    "tags": [
     "otter_answer_cell"
    ]
   },
   "outputs": [],
   "source": [
    "smallest_num_99 = ...\n"
   ]
  },
  {
   "cell_type": "code",
   "execution_count": null,
   "id": "1feb2e27",
   "metadata": {
    "deletable": false,
    "editable": false
   },
   "outputs": [],
   "source": [
    "grader.check(\"q5e\")"
   ]
  },
  {
   "cell_type": "markdown",
   "id": "ca83a993",
   "metadata": {
    "tags": []
   },
   "source": [
    "<hr style=\"border: 5px solid #003262;\" />\n",
    "<hr style=\"border: 1px solid #fdb515;\" />\n",
    "\n",
    "[Back to top](#top)\n",
    "\n",
    "<a id='p2'></a>\n",
    "\n",
    "## <span style='color:Red'>  Question 6. Thai Restaurants in Boulder"
   ]
  },
  {
   "cell_type": "markdown",
   "id": "9c760bda",
   "metadata": {},
   "source": [
    "\n",
    "\n",
    "Oswaldo and Varun are trying to see what the best Thai restaurant in Boulder is. They survey 1,500 CU Boulder students selected uniformly at random and ask each student what Thai restaurant is the best. (*Note: This data is fabricated for the purposes of this homework.*) The choices of Thai restaurants are [Aloy Thai](https://www.aloythai.com/), [Budda Cafe](https://www.buddhathaicuisine.com/menu), [Folsom Thai](https://www.folsomthaiatboulder.com/), and [Khow Thai](https://khow-thai.com/). After compiling the results, Oswaldo and Varun release the following percentages from their sample:\n",
    "\n",
    "|Thai Restaurant  | Percentage|\n",
    "|:------------:|:------------:|\n",
    "|Aloy Thai| 8% |\n",
    "|Khow Thai | 53% |\n",
    "|Folsom Thai | 25% |\n",
    "|Budda Cafe | 14% |\n",
    "\n",
    "These percentages represent a uniform random sample of the population of CU Boulder students. We will attempt to estimate the corresponding *parameters*, or the percentage of the votes that each restaurant will receive from the population (i.e. all CU Boulder students). We will use confidence intervals to compute a range of values that reflects the uncertainty of our estimates.\n",
    "\n",
    "The table `votes` contains the results of Oswaldo and Varun's survey."
   ]
  },
  {
   "cell_type": "code",
   "execution_count": null,
   "id": "74d6d265",
   "metadata": {},
   "outputs": [],
   "source": [
    "# Just run this cell\n",
    "votes = pd.read_csv('data/votes.csv')\n",
    "votes"
   ]
  },
  {
   "cell_type": "markdown",
   "id": "670fc03f",
   "metadata": {
    "deletable": false,
    "editable": false
   },
   "source": [
    "<hr style=\"border: 5px solid #003262;\" />\n",
    "<hr style=\"border: 1px solid #fdb515;\" />\n",
    "\n",
    "## <span style='color:Red'>  Question 6a (2 points)\n",
    "\n",
    "\n",
    "\n",
    "Oswaldo and Varun notice that in their sample, Khow Thai has received more than half of the votes.    They are interested in obtaining a confidence interval for the percentage of votes that Khow Thai will receive from the population.\n",
    "\n",
    "\n",
    "To begin, complete the function `one_resampled_percentage` below. It should return Khow Thai's ***percentage*** of votes after taking the original DataFrame as input and performing **one bootstrap sample** of it. Reminder that a percentage is between 0 and 100. \n",
    "\n",
    "*Note:* Input`tbl` will always be in the same format as the DataFrame `votes`.\n",
    "\n",
    "*Hint:* Given a DataFrame of votes, how can you figure out what percentage of the votes are for a certain restaurant? **Be sure to use percentages, not proportions, for this question!**\n"
   ]
  },
  {
   "cell_type": "code",
   "execution_count": null,
   "id": "b957a5cb",
   "metadata": {
    "tags": [
     "otter_answer_cell"
    ]
   },
   "outputs": [],
   "source": [
    "def one_resampled_percentage(tbl):\n",
    "    ...\n",
    "\n",
    "one_resampled_percentage(votes)"
   ]
  },
  {
   "cell_type": "code",
   "execution_count": null,
   "id": "1fc64b3c",
   "metadata": {
    "deletable": false,
    "editable": false
   },
   "outputs": [],
   "source": [
    "grader.check(\"q6a\")"
   ]
  },
  {
   "cell_type": "markdown",
   "id": "5cc949b8",
   "metadata": {
    "deletable": false,
    "editable": false
   },
   "source": [
    "<!-- BEGIN QUESTION -->\n",
    "\n",
    "<hr style=\"border: 5px solid #003262;\" />\n",
    "<hr style=\"border: 1px solid #fdb515;\" />\n",
    "\n",
    "## <span style='color:Red'>  Question 6b (2 points)\n",
    "\n",
    "i).  Complete the `percentages_in_resamples(num_bootstraps)` function such that it simulates and returns a numpy array of length `num_bootstraps` elements, where each element represents a bootstrapped estimate of the percentage of voters who will vote for Khow Thai. You should use the `one_resampled_percentage` function you wrote above.\n",
    "\n",
    "\n",
    "ii).  Run your function `percentages_in_resamples` for `num_bootstraps = 50000` and store the results in a numpy array called `resampled_percentages`.  Then create a density histogram of the entries in `resampled_percentages` array. **Set the bin number equal to 20 when plotting your histogram.**    Label both axes and include a title on your plot. \n",
    "\n"
   ]
  },
  {
   "cell_type": "code",
   "execution_count": null,
   "id": "429d07b2",
   "metadata": {
    "for_assignment_type": "solution",
    "tags": [
     "otter_answer_cell"
    ]
   },
   "outputs": [],
   "source": [
    "def percentages_in_resamples(num_bootstraps):\n",
    "    \n",
    "    ...\n"
   ]
  },
  {
   "cell_type": "code",
   "execution_count": null,
   "id": "32c6ddd0",
   "metadata": {
    "tags": [
     "otter_answer_cell"
    ]
   },
   "outputs": [],
   "source": [
    "...\n",
    "# your code for histogram above this line"
   ]
  },
  {
   "cell_type": "code",
   "execution_count": null,
   "id": "6de64096",
   "metadata": {
    "deletable": false,
    "editable": false
   },
   "outputs": [],
   "source": [
    "grader.check(\"q6b\")"
   ]
  },
  {
   "cell_type": "markdown",
   "id": "9bafe3dd",
   "metadata": {
    "deletable": false,
    "editable": false
   },
   "source": [
    "<!-- END QUESTION -->\n",
    "\n",
    "<hr style=\"border: 5px solid #003262;\" />\n",
    "<hr style=\"border: 1px solid #fdb515;\" />\n",
    "\n",
    "## <span style='color:Red'>  Question 6c (1 point)\n",
    "Using the array `resampled_percentages`, find the values at the two edges of the middle 95% of the bootstrapped percentage estimates. Compute the lower and upper ends of the interval, named `khow_lower_bound` and `khow_upper_bound` respectively. \n"
   ]
  },
  {
   "cell_type": "code",
   "execution_count": null,
   "id": "801120d3",
   "metadata": {
    "deletable": false,
    "tags": [
     "otter_answer_cell"
    ]
   },
   "outputs": [],
   "source": [
    "khow_lower_bound = ...\n",
    "khow_upper_bound = ...\n",
    "print(f\"Bootstrapped 95% confidence interval for the percentage of Khow Thai voters in the population: [{khow_lower_bound:.2f}, {khow_upper_bound:.2f}]\")"
   ]
  },
  {
   "cell_type": "code",
   "execution_count": null,
   "id": "9dcae705",
   "metadata": {
    "deletable": false,
    "editable": false
   },
   "outputs": [],
   "source": [
    "grader.check(\"q6c\")"
   ]
  },
  {
   "cell_type": "markdown",
   "id": "8176d8d4",
   "metadata": {
    "deletable": false,
    "editable": false
   },
   "source": [
    "<hr style=\"border: 5px solid #003262;\" />\n",
    "<hr style=\"border: 1px solid #fdb515;\" />\n",
    "\n",
    "## <span style='color:Red'>  Question 6d (1 point)\n",
    "Suppose we produced 6,000 new samples (each one a new/distinct uniform random sample of 1,500 students) from the population and created a 95% confidence interval for the percentage of people who vote for Khow Thai from each one. Roughly how many of those 6,000 intervals do you expect will actually contain the true percentage of the population? \n",
    "\n",
    "Assign your answer to `true_percentage_intervals`.\n"
   ]
  },
  {
   "cell_type": "code",
   "execution_count": null,
   "id": "6e84dc58",
   "metadata": {
    "deletable": false,
    "tags": [
     "otter_answer_cell"
    ]
   },
   "outputs": [],
   "source": [
    "true_percentage_intervals = ..."
   ]
  },
  {
   "cell_type": "code",
   "execution_count": null,
   "id": "6f78bf30",
   "metadata": {
    "deletable": false,
    "editable": false
   },
   "outputs": [],
   "source": [
    "grader.check(\"q6d\")"
   ]
  },
  {
   "cell_type": "markdown",
   "id": "8c61a713",
   "metadata": {
    "deletable": false,
    "editable": false
   },
   "source": [
    "<!-- BEGIN QUESTION -->\n",
    "\n",
    "<hr style=\"border: 5px solid #003262;\" />\n",
    "<hr style=\"border: 1px solid #fdb515;\" />\n",
    "\n",
    "## <span style='color:Red'>  Question 6d (2 Points)\n",
    "The staff also created 70%, 90%, and 99% confidence intervals from the same sample, but we forgot to label which confidence interval represented which percentages! **First**, match each confidence level (70%, 90%, 99%) with its corresponding interval in the cell below \n",
    "\n",
    "(e.g. __ % CI: [52.1, 54] $\\rightarrow$ replace the blank with one of the three confidence levels).\n",
    "\n",
    "**Then**, explain your thought process and how you came up with your answers. \n",
    "\n",
    "The intervals are below:\n",
    "\n",
    "* [50.03, 55.94]\n",
    "* [52.1, 54]\n",
    "* [50.97, 54.99]\n",
    "\n"
   ]
  },
  {
   "cell_type": "markdown",
   "id": "2df76b04",
   "metadata": {
    "tags": [
     "otter_answer_cell"
    ]
   },
   "source": [
    "_Type your answer here, replacing this text._"
   ]
  },
  {
   "cell_type": "code",
   "execution_count": null,
   "id": "971b16c1",
   "metadata": {
    "deletable": false,
    "editable": false
   },
   "outputs": [],
   "source": [
    "grader.check(\"q6d\")"
   ]
  },
  {
   "cell_type": "markdown",
   "id": "169d7663",
   "metadata": {
    "deletable": false,
    "editable": false
   },
   "source": [
    "<!-- END QUESTION -->\n",
    "\n",
    "<br/><br/>\n",
    "<hr style=\"border: 5px solid #003262;\" />\n",
    "<hr style=\"border: 1px solid #fdb515;\" />\n",
    "\n",
    "## Congratulations! You have finished Homework 8!"
   ]
  },
  {
   "cell_type": "markdown",
   "id": "c34ec54f-7b0b-446d-84d3-7735061c7620",
   "metadata": {},
   "source": [
    "If you discussed this assignment with any other students in the class (in a manner that is acceptable as described by the Collaboration policy above) please **include their names** here:\n",
    "\n",
    "**Collaborators**: *list collaborators here*\n",
    "\n",
    "If while completing this assignment you reference any websites other than those linked in this assignment or provided on Canvas please list those references here:\n",
    "\n",
    "**External references**:  *list any websites you referenced*"
   ]
  },
  {
   "cell_type": "markdown",
   "id": "46739932",
   "metadata": {},
   "source": [
    "### Submission Instructions\n",
    "\n",
    "\n",
    "\n",
    "Before proceeding any further, **save this notebook.**\n",
    "\n",
    "After running the `grader.export()` cell provided below, **2 files will be created**: a zip file and pdf file.  You can download them using the links provided below OR by finding them in the same folder where this juptyer notebook resides in your JuptyerHub.\n",
    "\n",
    "To receive credit on this assignment, **you must submit BOTH of these files\n",
    "to their respective Gradescope portals:** \n",
    "\n",
    "* **Homework 8 Autograded**: Submit the zip file that is output by the `grader.export()` cell below to the HW 8 Autograded assignment in Gradescope.\n",
    "\n",
    "* **Homework 8 Manually Graded**: Submit your hw08.PDF to the HW8 Manually Graded assignment in Gradescope.  **YOU MUST SELECT THE PAGES CORRESPONDING TO EACH QUESTION WHEN YOU UPLOAD TO GRADESCOPE.  IF NOT, YOU WILL LOSE POINTS**   Also, **check** that all of your plots **and** all lines of your code are showing up in your PDF before submitting.  If not, you will not receive credit for your plots/code.  \n",
    "\n",
    "\n",
    "**You are responsible for ensuring your submission follows our requirements. We will not be granting regrade requests nor extensions to submissions that don't follow instructions.** If you encounter any difficulties with submission, please don't hesitate to reach out to staff prior to the deadline."
   ]
  },
  {
   "cell_type": "code",
   "execution_count": null,
   "id": "6157c108-8e94-408d-ae22-0ca43e3eff3f",
   "metadata": {},
   "outputs": [],
   "source": [
    "import simple_latex_checker as slc\n",
    "\n",
    "nb = slc.Nb_checker()\n",
    "nb.run_check(\"hw08.ipynb\")"
   ]
  },
  {
   "cell_type": "markdown",
   "id": "cb0670f0",
   "metadata": {
    "deletable": false,
    "editable": false
   },
   "source": [
    "## Submission\n",
    "\n",
    "Make sure you have run all cells in your notebook in order before running the cell below, so that all images/graphs appear in the output. The cell below will generate a zip file for you to submit. **Please save before exporting!**\n",
    "\n",
    "AFTER running the cell below, click on <a href='hw08.pdf' download>this link to download the PDF </a> to upload to Gradescope.  There will be a separate link that appears after running the cell below with a link to download the zip file to upload to Gradescope."
   ]
  },
  {
   "cell_type": "code",
   "execution_count": null,
   "id": "fe7354f0",
   "metadata": {
    "deletable": false,
    "editable": false
   },
   "outputs": [],
   "source": [
    "# Save your notebook first, then run this cell to export your submission.\n",
    "grader.export(run_tests=True)"
   ]
  },
  {
   "cell_type": "markdown",
   "id": "ac61fbd6",
   "metadata": {},
   "source": [
    " "
   ]
  }
 ],
 "metadata": {
  "kernelspec": {
   "display_name": "Python [conda env:base] *",
   "language": "python",
   "name": "conda-base-py"
  },
  "language_info": {
   "codemirror_mode": {
    "name": "ipython",
    "version": 3
   },
   "file_extension": ".py",
   "mimetype": "text/x-python",
   "name": "python",
   "nbconvert_exporter": "python",
   "pygments_lexer": "ipython3",
   "version": "3.12.7"
  },
  "otter": {
   "OK_FORMAT": true,
   "tests": {
    "q1a": {
     "name": "q1a",
     "points": 1,
     "suites": [
      {
       "cases": [
        {
         "code": ">>> assert get_hash(q1a_answer) == '6bb61e3b7bce0931da574d19d1d82c88'\n",
         "hidden": false,
         "locked": false
        }
       ],
       "scored": true,
       "setup": "",
       "teardown": "",
       "type": "doctest"
      }
     ]
    },
    "q1b": {
     "name": "q1b",
     "points": 2,
     "suites": [
      {
       "cases": [
        {
         "code": ">>> assert get_hash(round(q1b_answer, 3)) == '0a4a2fbfa050681b56c8bfce230ee97c'\n",
         "hidden": false,
         "locked": false
        }
       ],
       "scored": true,
       "setup": "",
       "teardown": "",
       "type": "doctest"
      }
     ]
    },
    "q3a": {
     "name": "q3a",
     "points": 3,
     "suites": [
      {
       "cases": [
        {
         "code": ">>> assert get_hash(round(sample_mean, 3)) == '7c4d074c8da37d2fbc276052bde68bee'\n",
         "hidden": false,
         "locked": false
        },
        {
         "code": ">>> assert get_hash(round(CI_lower, 3)) == '77807e922f3539eb5d2894d2db284d34'\n",
         "hidden": false,
         "locked": false
        },
        {
         "code": ">>> assert get_hash(round(CI_upper, 3)) == '9cf87aa3fe0926c8580b41dc953e18a7'\n",
         "hidden": false,
         "locked": false
        }
       ],
       "scored": true,
       "setup": "",
       "teardown": "",
       "type": "doctest"
      }
     ]
    },
    "q3c": {
     "name": "q3c",
     "points": 4,
     "suites": [
      {
       "cases": [
        {
         "code": ">>> assert get_hash(len(resampled_med)) == '14ee22eaba297944c96afdbe5b16c65b'\n",
         "hidden": false,
         "locked": false
        },
        {
         "code": ">>> import numpy as np\n>>> np.random.seed(200)\n>>> assert get_hash(round(one_resampled_med(sample), 0)) == 'bb8082cd8cd9c0df935ca3c352cbb843'\n",
         "hidden": false,
         "locked": false
        },
        {
         "code": ">>> import numpy as np\n>>> np.random.seed(200)\n>>> assert get_hash(round(np.array([one_resampled_med(sample) for i in range(100)]).mean(), 0))\n",
         "hidden": false,
         "locked": false
        },
        {
         "code": ">>> import numpy as np\n>>> assert np.abs(np.percentile(resampled_med, 2.5) - 42833.5) < 3\n",
         "hidden": false,
         "locked": false
        }
       ],
       "scored": true,
       "setup": "",
       "teardown": "",
       "type": "doctest"
      }
     ]
    },
    "q3d": {
     "name": "q3d",
     "points": [
      1
     ],
     "suites": [
      {
       "cases": [
        {
         "code": ">>> assert all([CI_med_lower == np.percentile(resampled_med, 2.5), CI_med_upper == np.percentile(resampled_med, 97.5)])\n",
         "hidden": false,
         "locked": false
        }
       ],
       "scored": true,
       "setup": "",
       "teardown": "",
       "type": "doctest"
      }
     ]
    },
    "q5a": {
     "name": "q5a",
     "points": [
      2
     ],
     "suites": [
      {
       "cases": [
        {
         "code": ">>> assert get_hash(smallest) == '233509073ed3432027d48b1a83f5fbd2'\n",
         "hidden": false,
         "locked": false
        }
       ],
       "scored": true,
       "setup": "",
       "teardown": "",
       "type": "doctest"
      }
     ]
    },
    "q5b": {
     "name": "q5b",
     "points": [
      0,
      2
     ],
     "suites": [
      {
       "cases": [
        {
         "code": ">>> assert 1 <= sample_90 <= 3\n",
         "hidden": false,
         "locked": false
        },
        {
         "code": ">>> assert get_hash(sample_90) == 'c81e728d9d4c2f636f067f89cc14862c'\n",
         "hidden": false,
         "locked": false
        }
       ],
       "scored": true,
       "setup": "",
       "teardown": "",
       "type": "doctest"
      }
     ]
    },
    "q5c": {
     "name": "q5c",
     "points": [
      2
     ],
     "suites": [
      {
       "cases": [
        {
         "code": ">>> assert get_hash(smallest_num) == 'e0c641195b27425bb056ac56f8953d24'\n",
         "hidden": false,
         "locked": false
        }
       ],
       "scored": true,
       "setup": "",
       "teardown": "",
       "type": "doctest"
      }
     ]
    },
    "q5d": {
     "name": "q5d",
     "points": 1,
     "suites": [
      {
       "cases": [
        {
         "code": ">>> assert np.isclose(shaded_area, 0.89899483)\n",
         "hidden": false,
         "locked": false
        }
       ],
       "scored": true,
       "setup": "",
       "teardown": "",
       "type": "doctest"
      }
     ]
    },
    "q5e": {
     "name": "q5e",
     "points": [
      1,
      1
     ],
     "suites": [
      {
       "cases": [
        {
         "code": ">>> assert get_hash(round(SE_99, 2)) == '312a77c20595d65b6cdb34b8da493ffb'\n",
         "hidden": false,
         "locked": false
        },
        {
         "code": ">>> assert get_hash(smallest_num_99) == 'd736bb10d83a904aefc1d6ce93dc54b8'\n",
         "hidden": false,
         "locked": false
        }
       ],
       "scored": true,
       "setup": "",
       "teardown": "",
       "type": "doctest"
      }
     ]
    },
    "q6a": {
     "name": "q6a",
     "points": [
      0,
      0,
      0,
      2
     ],
     "suites": [
      {
       "cases": [
        {
         "code": ">>> assert type(one_resampled_percentage(votes)) in set([float, np.float64])\n",
         "hidden": false,
         "locked": false
        },
        {
         "code": ">>> assert one_resampled_percentage(votes) > 0\n",
         "hidden": false,
         "locked": false
        },
        {
         "code": ">>> assert 35 <= one_resampled_percentage(votes) <= 65\n",
         "hidden": false,
         "locked": false
        },
        {
         "code": ">>> np.random.seed(123)\n>>> assert np.isclose(one_resampled_percentage(votes), 52.400000000000006)\n",
         "hidden": false,
         "locked": false
        }
       ],
       "scored": true,
       "setup": "",
       "teardown": "",
       "type": "doctest"
      }
     ]
    },
    "q6b": {
     "name": "q6b",
     "points": [
      0,
      1,
      1
     ],
     "suites": [
      {
       "cases": [
        {
         "code": ">>> assert get_hash(len(resampled_percentages)) == '1017bfd4673955ffee4641ad3d481b1c'\n",
         "hidden": false,
         "locked": false
        },
        {
         "code": ">>> np.random.seed(123)\n>>> assert np.isclose(percentages_in_resamples(2000).item(0), 52.400000000000006)\n",
         "hidden": false,
         "locked": false
        },
        {
         "code": ">>> np.random.seed(123)\n>>> assert np.isclose(percentages_in_resamples(2000).item(10), 51.33333333333333)\n",
         "hidden": false,
         "locked": false
        }
       ],
       "scored": true,
       "setup": "",
       "teardown": "",
       "type": "doctest"
      }
     ]
    },
    "q6c": {
     "name": "q6c",
     "points": [
      1
     ],
     "suites": [
      {
       "cases": [
        {
         "code": ">>> assert all([khow_lower_bound == np.percentile(resampled_percentages, 2.5), khow_upper_bound == np.percentile(resampled_percentages, 97.5)])\n",
         "hidden": false,
         "locked": false
        }
       ],
       "scored": true,
       "setup": "",
       "teardown": "",
       "type": "doctest"
      }
     ]
    },
    "q6d": {
     "name": "q6d",
     "points": null,
     "suites": [
      {
       "cases": [
        {
         "code": ">>> assert get_hash(int(true_percentage_intervals)) == '84f5ddd735176becc72c3b1ff424149e'\n",
         "hidden": false,
         "locked": false
        }
       ],
       "scored": true,
       "setup": "",
       "teardown": "",
       "type": "doctest"
      }
     ]
    }
   }
  }
 },
 "nbformat": 4,
 "nbformat_minor": 5
}
